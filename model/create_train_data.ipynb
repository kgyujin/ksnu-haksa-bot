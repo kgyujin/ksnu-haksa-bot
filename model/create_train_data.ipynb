{
 "cells": [
  {
   "cell_type": "markdown",
   "id": "8ef75773",
   "metadata": {},
   "source": [
    "# 의도 분류 모델 학습 데이터 생성하기"
   ]
  },
  {
   "cell_type": "markdown",
   "id": "e1029818",
   "metadata": {},
   "source": [
    "## 0. Import"
   ]
  },
  {
   "cell_type": "code",
   "id": "a07b3b07",
   "metadata": {
    "ExecuteTime": {
     "end_time": "2024-06-03T04:02:50.957925Z",
     "start_time": "2024-06-03T04:02:50.938018Z"
    }
   },
   "source": [
    "import pandas as pd\n",
    "import numpy as np\n",
    "import matplotlib.pyplot as plt\n",
    "import seaborn as sns\n",
    "from konlpy.tag import Komoran\n",
    "import matplotlib.pyplot as plt"
   ],
   "outputs": [],
   "execution_count": 1
  },
  {
   "cell_type": "markdown",
   "id": "c1622aea",
   "metadata": {},
   "source": [
    "## 1. 데이터 불러오기"
   ]
  },
  {
   "cell_type": "code",
   "id": "78296814",
   "metadata": {
    "ExecuteTime": {
     "end_time": "2024-06-03T04:02:54.246972Z",
     "start_time": "2024-06-03T04:02:52.530780Z"
    }
   },
   "source": [
    "time_expression = pd.read_csv(\"../dataset/trans-dataset/시간표현탐지데이터.csv\")\n",
    "purpose = pd.read_csv(\"../dataset/trans-dataset/용도별목적대화데이터.csv\")\n",
    "topic = pd.read_csv(\"../dataset/trans-dataset/주제별일상대화데이터.csv\")\n",
    "common_sense = pd.read_csv(\"../dataset/trans-dataset/일반상식.csv\")\n",
    "# add = pd.read_csv(\"../../변형데이터/추가데이터.csv\")\n",
    "\n",
    "time_expression.dropna(inplace=True)\n",
    "purpose.dropna(inplace=True)\n",
    "topic.dropna(inplace=True)\n",
    "common_sense.dropna(inplace=True)\n",
    "# add.dropna(inplace=True)"
   ],
   "outputs": [],
   "execution_count": 2
  },
  {
   "cell_type": "code",
   "id": "9a032b57",
   "metadata": {
    "ExecuteTime": {
     "end_time": "2024-06-03T04:02:55.690049Z",
     "start_time": "2024-06-03T04:02:55.675473Z"
    }
   },
   "source": [
    "print(f\"time_expression shape => {time_expression.shape}\\n\\\n",
    "purpose shape => {purpose.shape}\\n\\\n",
    "topic shape => {topic.shape}\\n\\\n",
    "common_sense shape => {common_sense.shape}\\n\\\n",
    "\")\n",
    "# add => {add.shape}\")"
   ],
   "outputs": [
    {
     "name": "stdout",
     "output_type": "stream",
     "text": [
      "time_expression shape => (278781, 1)\n",
      "purpose shape => (172442, 1)\n",
      "topic shape => (1445793, 1)\n",
      "common_sense shape => (68538, 3)\n",
      "\n"
     ]
    }
   ],
   "execution_count": 3
  },
  {
   "cell_type": "code",
   "id": "e930d8f9",
   "metadata": {
    "scrolled": true,
    "ExecuteTime": {
     "end_time": "2024-06-03T04:02:57.545359Z",
     "start_time": "2024-06-03T04:02:57.538407Z"
    }
   },
   "source": "time_expression.columns",
   "outputs": [
    {
     "data": {
      "text/plain": [
       "Index(['text'], dtype='object')"
      ]
     },
     "execution_count": 4,
     "metadata": {},
     "output_type": "execute_result"
    }
   ],
   "execution_count": 4
  },
  {
   "cell_type": "code",
   "id": "371eea71",
   "metadata": {
    "ExecuteTime": {
     "end_time": "2024-06-03T04:02:58.263392Z",
     "start_time": "2024-06-03T04:02:58.250725Z"
    }
   },
   "source": [
    "purpose.columns"
   ],
   "outputs": [
    {
     "data": {
      "text/plain": [
       "Index(['text'], dtype='object')"
      ]
     },
     "execution_count": 5,
     "metadata": {},
     "output_type": "execute_result"
    }
   ],
   "execution_count": 5
  },
  {
   "cell_type": "code",
   "id": "e9d91947",
   "metadata": {
    "ExecuteTime": {
     "end_time": "2024-06-03T04:02:58.820091Z",
     "start_time": "2024-06-03T04:02:58.810521Z"
    }
   },
   "source": [
    "topic.columns"
   ],
   "outputs": [
    {
     "data": {
      "text/plain": [
       "Index(['text'], dtype='object')"
      ]
     },
     "execution_count": 6,
     "metadata": {},
     "output_type": "execute_result"
    }
   ],
   "execution_count": 6
  },
  {
   "cell_type": "code",
   "id": "16cf0f59",
   "metadata": {
    "ExecuteTime": {
     "end_time": "2024-06-03T04:02:59.254666Z",
     "start_time": "2024-06-03T04:02:59.242516Z"
    }
   },
   "source": [
    "common_sense.columns"
   ],
   "outputs": [
    {
     "data": {
      "text/plain": [
       "Index(['intent', 'query', 'answer'], dtype='object')"
      ]
     },
     "execution_count": 7,
     "metadata": {},
     "output_type": "execute_result"
    }
   ],
   "execution_count": 7
  },
  {
   "cell_type": "code",
   "id": "76d84076",
   "metadata": {
    "ExecuteTime": {
     "end_time": "2024-06-03T04:02:59.730978Z",
     "start_time": "2024-06-03T04:02:59.727369Z"
    }
   },
   "source": "# add.columns",
   "outputs": [],
   "execution_count": 8
  },
  {
   "cell_type": "code",
   "id": "66dff7cd",
   "metadata": {
    "ExecuteTime": {
     "end_time": "2024-06-03T04:03:00.664518Z",
     "start_time": "2024-06-03T04:03:00.516503Z"
    }
   },
   "source": [
    "# all_data = list(time_expression['text']) + list(purpose['text']) + list(topic['text']) + list(common_sense['query']) \\\n",
    "# + list(common_sense['answer']) + list(add['query'])\n",
    "\n",
    "all_data = list(time_expression['text']) + list(purpose['text']) + list(topic['text']) + list(common_sense['query']) \\\n",
    "+ list(common_sense['answer'])"
   ],
   "outputs": [],
   "execution_count": 9
  },
  {
   "cell_type": "code",
   "id": "2e60ebc3",
   "metadata": {
    "ExecuteTime": {
     "end_time": "2024-06-03T04:03:01.249387Z",
     "start_time": "2024-06-03T04:03:01.238739Z"
    }
   },
   "source": "len(all_data)",
   "outputs": [
    {
     "data": {
      "text/plain": [
       "2034092"
      ]
     },
     "execution_count": 10,
     "metadata": {},
     "output_type": "execute_result"
    }
   ],
   "execution_count": 10
  },
  {
   "cell_type": "code",
   "id": "a286016c",
   "metadata": {
    "ExecuteTime": {
     "end_time": "2024-06-03T04:03:03.265592Z",
     "start_time": "2024-06-03T04:03:01.593410Z"
    }
   },
   "source": [
    "# 통합본 생성하고 저장하기\n",
    "total = pd.DataFrame({'text': all_data})\n",
    "total.to_csv(\"../dataset/trans-dataset/통합본데이터.csv\", index=False)"
   ],
   "outputs": [],
   "execution_count": 11
  },
  {
   "cell_type": "markdown",
   "id": "ffb7d227",
   "metadata": {},
   "source": [
    "## 2. 의도 분류 데이터 생성하기"
   ]
  },
  {
   "cell_type": "markdown",
   "id": "8b479de5",
   "metadata": {},
   "source": [
    "0 -> 번호, 1 -> 장소, 2 -> 시간, 3 -> 기타  \n",
    "기타는 추후에 다시 생성 예정"
   ]
  },
  {
   "cell_type": "code",
   "id": "7d087451",
   "metadata": {
    "ExecuteTime": {
     "end_time": "2024-06-03T04:03:03.745686Z",
     "start_time": "2024-06-03T04:03:03.733979Z"
    }
   },
   "source": [
    "number = []\n",
    "place = []\n",
    "time = []\n",
    "etc = []"
   ],
   "outputs": [],
   "execution_count": 12
  },
  {
   "cell_type": "code",
   "id": "3f01b0da",
   "metadata": {
    "ExecuteTime": {
     "end_time": "2024-06-03T04:03:04.567835Z",
     "start_time": "2024-06-03T04:03:04.217381Z"
    }
   },
   "source": [
    "for i in all_data:\n",
    "    if ('어디' or '장소' or '위치' or '주소') in i: place.append(i)\n",
    "    elif ('번호' or '전화') in i: number.append(i)\n",
    "    elif ('시작' or '마감' or '언제' or '기간' or '시간') in i: time.append(i)\n",
    "    else: etc.append(i)"
   ],
   "outputs": [],
   "execution_count": 13
  },
  {
   "cell_type": "code",
   "id": "5573135e",
   "metadata": {
    "ExecuteTime": {
     "end_time": "2024-06-03T04:03:04.667215Z",
     "start_time": "2024-06-03T04:03:04.662011Z"
    }
   },
   "source": [
    "len(number)"
   ],
   "outputs": [
    {
     "data": {
      "text/plain": [
       "6937"
      ]
     },
     "execution_count": 14,
     "metadata": {},
     "output_type": "execute_result"
    }
   ],
   "execution_count": 14
  },
  {
   "cell_type": "code",
   "id": "fccab236",
   "metadata": {
    "ExecuteTime": {
     "end_time": "2024-06-03T04:03:05.148329Z",
     "start_time": "2024-06-03T04:03:05.141801Z"
    }
   },
   "source": [
    "number_label = []\n",
    "for _ in range(len(number)):\n",
    "    number_label.append(0)\n",
    "len(number_label)"
   ],
   "outputs": [
    {
     "data": {
      "text/plain": [
       "6937"
      ]
     },
     "execution_count": 15,
     "metadata": {},
     "output_type": "execute_result"
    }
   ],
   "execution_count": 15
  },
  {
   "cell_type": "code",
   "id": "492f141f",
   "metadata": {
    "ExecuteTime": {
     "end_time": "2024-06-03T04:03:05.556923Z",
     "start_time": "2024-06-03T04:03:05.548919Z"
    }
   },
   "source": [
    "len(place)"
   ],
   "outputs": [
    {
     "data": {
      "text/plain": [
       "21174"
      ]
     },
     "execution_count": 16,
     "metadata": {},
     "output_type": "execute_result"
    }
   ],
   "execution_count": 16
  },
  {
   "cell_type": "code",
   "id": "b144fade",
   "metadata": {
    "ExecuteTime": {
     "end_time": "2024-06-03T04:03:05.889505Z",
     "start_time": "2024-06-03T04:03:05.872477Z"
    }
   },
   "source": [
    "place_label = []\n",
    "for _ in range(len(place)):\n",
    "    place_label.append(1)\n",
    "len(place_label)"
   ],
   "outputs": [
    {
     "data": {
      "text/plain": [
       "21174"
      ]
     },
     "execution_count": 17,
     "metadata": {},
     "output_type": "execute_result"
    }
   ],
   "execution_count": 17
  },
  {
   "cell_type": "code",
   "id": "55c0206b",
   "metadata": {
    "ExecuteTime": {
     "end_time": "2024-06-03T04:03:06.236410Z",
     "start_time": "2024-06-03T04:03:06.231804Z"
    }
   },
   "source": [
    "len(time)"
   ],
   "outputs": [
    {
     "data": {
      "text/plain": [
       "5633"
      ]
     },
     "execution_count": 18,
     "metadata": {},
     "output_type": "execute_result"
    }
   ],
   "execution_count": 18
  },
  {
   "cell_type": "code",
   "id": "b50ffe98",
   "metadata": {
    "scrolled": true,
    "ExecuteTime": {
     "end_time": "2024-06-03T04:03:06.573651Z",
     "start_time": "2024-06-03T04:03:06.569877Z"
    }
   },
   "source": [
    "time_label = []\n",
    "for _ in range(len(time)):\n",
    "    time_label.append(2)\n",
    "len(time_label)"
   ],
   "outputs": [
    {
     "data": {
      "text/plain": [
       "5633"
      ]
     },
     "execution_count": 19,
     "metadata": {},
     "output_type": "execute_result"
    }
   ],
   "execution_count": 19
  },
  {
   "cell_type": "code",
   "id": "5ab3141b",
   "metadata": {
    "ExecuteTime": {
     "end_time": "2024-06-03T04:03:06.867631Z",
     "start_time": "2024-06-03T04:03:06.863739Z"
    }
   },
   "source": [
    "#import random\n",
    "#random.seed(42)\n",
    "#etc_sample = random.sample(etc, 20000)"
   ],
   "outputs": [],
   "execution_count": 20
  },
  {
   "cell_type": "code",
   "id": "4c10f994",
   "metadata": {
    "ExecuteTime": {
     "end_time": "2024-06-03T04:03:07.188904Z",
     "start_time": "2024-06-03T04:03:07.185351Z"
    }
   },
   "source": [
    "#etc_sample_label = []\n",
    "#for _ in range(len(etc_sample)):\n",
    "#    etc_sample_label.append(3)\n",
    "#len(etc_sample_label)"
   ],
   "outputs": [],
   "execution_count": 21
  },
  {
   "cell_type": "code",
   "id": "72f5fcef",
   "metadata": {
    "ExecuteTime": {
     "end_time": "2024-06-03T04:03:07.478624Z",
     "start_time": "2024-06-03T04:03:07.457766Z"
    }
   },
   "source": [
    "train_df = pd.DataFrame({'text':number+place+time,\n",
    "                         'label':number_label+place_label+time_label})"
   ],
   "outputs": [],
   "execution_count": 22
  },
  {
   "cell_type": "code",
   "id": "70ed7924",
   "metadata": {
    "ExecuteTime": {
     "end_time": "2024-06-03T04:03:07.820662Z",
     "start_time": "2024-06-03T04:03:07.804262Z"
    }
   },
   "source": [
    "train_df.head()"
   ],
   "outputs": [
    {
     "data": {
      "text/plain": [
       "                                    text  label\n",
       "0  우측 상단 플러스버튼 클릭 후 열여섯자리 인증번호 입력하시면 됩니다      0\n",
       "1                     왔던 번호로 다시 걸어보라는 거죠      0\n",
       "2                    네 그래서 고객님 쿠폰번호 문자로요      0\n",
       "3     당첨자에게 등록되어 있는 번호로 문자메시지 발송 드리고 있어요      0\n",
       "4                     네 핸드폰 번호 확인 감사드립니다      0"
      ],
      "text/html": [
       "<div>\n",
       "<style scoped>\n",
       "    .dataframe tbody tr th:only-of-type {\n",
       "        vertical-align: middle;\n",
       "    }\n",
       "\n",
       "    .dataframe tbody tr th {\n",
       "        vertical-align: top;\n",
       "    }\n",
       "\n",
       "    .dataframe thead th {\n",
       "        text-align: right;\n",
       "    }\n",
       "</style>\n",
       "<table border=\"1\" class=\"dataframe\">\n",
       "  <thead>\n",
       "    <tr style=\"text-align: right;\">\n",
       "      <th></th>\n",
       "      <th>text</th>\n",
       "      <th>label</th>\n",
       "    </tr>\n",
       "  </thead>\n",
       "  <tbody>\n",
       "    <tr>\n",
       "      <th>0</th>\n",
       "      <td>우측 상단 플러스버튼 클릭 후 열여섯자리 인증번호 입력하시면 됩니다</td>\n",
       "      <td>0</td>\n",
       "    </tr>\n",
       "    <tr>\n",
       "      <th>1</th>\n",
       "      <td>왔던 번호로 다시 걸어보라는 거죠</td>\n",
       "      <td>0</td>\n",
       "    </tr>\n",
       "    <tr>\n",
       "      <th>2</th>\n",
       "      <td>네 그래서 고객님 쿠폰번호 문자로요</td>\n",
       "      <td>0</td>\n",
       "    </tr>\n",
       "    <tr>\n",
       "      <th>3</th>\n",
       "      <td>당첨자에게 등록되어 있는 번호로 문자메시지 발송 드리고 있어요</td>\n",
       "      <td>0</td>\n",
       "    </tr>\n",
       "    <tr>\n",
       "      <th>4</th>\n",
       "      <td>네 핸드폰 번호 확인 감사드립니다</td>\n",
       "      <td>0</td>\n",
       "    </tr>\n",
       "  </tbody>\n",
       "</table>\n",
       "</div>"
      ]
     },
     "execution_count": 23,
     "metadata": {},
     "output_type": "execute_result"
    }
   ],
   "execution_count": 23
  },
  {
   "cell_type": "code",
   "id": "6279d601",
   "metadata": {
    "ExecuteTime": {
     "end_time": "2024-06-03T04:03:08.107744Z",
     "start_time": "2024-06-03T04:03:08.097369Z"
    }
   },
   "source": [
    "train_df.tail()"
   ],
   "outputs": [
    {
     "data": {
      "text/plain": [
       "                                                    text  label\n",
       "33739  미군과 작전통제권 이양(대한민국의 전시작전권 환수), 한미연합군사훈련, 기지 이전협상 등      2\n",
       "33740                               상륙 이후 시작된 연합군의 연료 부족      2\n",
       "33741               국제 투기꾼들이 가격을 최대한 올려놓은 다음 팔아버리기 시작한 것      2\n",
       "33742           '조지프 스미스를 소재로 뭔가 하고 싶다'는 로페즈의 제안에 제작을 시작      2\n",
       "33743        쥐라기 때부터 네바다 주 중앙의 지층파괴지대 동쪽에서 지각이 불안정해지기 시작      2"
      ],
      "text/html": [
       "<div>\n",
       "<style scoped>\n",
       "    .dataframe tbody tr th:only-of-type {\n",
       "        vertical-align: middle;\n",
       "    }\n",
       "\n",
       "    .dataframe tbody tr th {\n",
       "        vertical-align: top;\n",
       "    }\n",
       "\n",
       "    .dataframe thead th {\n",
       "        text-align: right;\n",
       "    }\n",
       "</style>\n",
       "<table border=\"1\" class=\"dataframe\">\n",
       "  <thead>\n",
       "    <tr style=\"text-align: right;\">\n",
       "      <th></th>\n",
       "      <th>text</th>\n",
       "      <th>label</th>\n",
       "    </tr>\n",
       "  </thead>\n",
       "  <tbody>\n",
       "    <tr>\n",
       "      <th>33739</th>\n",
       "      <td>미군과 작전통제권 이양(대한민국의 전시작전권 환수), 한미연합군사훈련, 기지 이전협상 등</td>\n",
       "      <td>2</td>\n",
       "    </tr>\n",
       "    <tr>\n",
       "      <th>33740</th>\n",
       "      <td>상륙 이후 시작된 연합군의 연료 부족</td>\n",
       "      <td>2</td>\n",
       "    </tr>\n",
       "    <tr>\n",
       "      <th>33741</th>\n",
       "      <td>국제 투기꾼들이 가격을 최대한 올려놓은 다음 팔아버리기 시작한 것</td>\n",
       "      <td>2</td>\n",
       "    </tr>\n",
       "    <tr>\n",
       "      <th>33742</th>\n",
       "      <td>'조지프 스미스를 소재로 뭔가 하고 싶다'는 로페즈의 제안에 제작을 시작</td>\n",
       "      <td>2</td>\n",
       "    </tr>\n",
       "    <tr>\n",
       "      <th>33743</th>\n",
       "      <td>쥐라기 때부터 네바다 주 중앙의 지층파괴지대 동쪽에서 지각이 불안정해지기 시작</td>\n",
       "      <td>2</td>\n",
       "    </tr>\n",
       "  </tbody>\n",
       "</table>\n",
       "</div>"
      ]
     },
     "execution_count": 24,
     "metadata": {},
     "output_type": "execute_result"
    }
   ],
   "execution_count": 24
  },
  {
   "cell_type": "code",
   "id": "7911d678",
   "metadata": {
    "ExecuteTime": {
     "end_time": "2024-06-03T04:03:08.463416Z",
     "start_time": "2024-06-03T04:03:08.455548Z"
    }
   },
   "source": [
    "train_df[train_df['label']==0]"
   ],
   "outputs": [
    {
     "data": {
      "text/plain": [
       "                                                   text  label\n",
       "0                 우측 상단 플러스버튼 클릭 후 열여섯자리 인증번호 입력하시면 됩니다      0\n",
       "1                                    왔던 번호로 다시 걸어보라는 거죠      0\n",
       "2                                   네 그래서 고객님 쿠폰번호 문자로요      0\n",
       "3                    당첨자에게 등록되어 있는 번호로 문자메시지 발송 드리고 있어요      0\n",
       "4                                    네 핸드폰 번호 확인 감사드립니다      0\n",
       "...                                                 ...    ...\n",
       "6932                        화학 원소로 기호는 Ag(←), 원자 번호는 47      0\n",
       "6933                                           등번호 ‘1’번      0\n",
       "6934                                     전화번호 검색과 지도서비스      0\n",
       "6935                     현을 구멍의 번호에 따라 나누면 화음을 제공한다는 사실      0\n",
       "6936  교황 요한 15세부터 교황 요한 19세까지를 요한 16세에서 20세까지로 잘못 번호...      0\n",
       "\n",
       "[6937 rows x 2 columns]"
      ],
      "text/html": [
       "<div>\n",
       "<style scoped>\n",
       "    .dataframe tbody tr th:only-of-type {\n",
       "        vertical-align: middle;\n",
       "    }\n",
       "\n",
       "    .dataframe tbody tr th {\n",
       "        vertical-align: top;\n",
       "    }\n",
       "\n",
       "    .dataframe thead th {\n",
       "        text-align: right;\n",
       "    }\n",
       "</style>\n",
       "<table border=\"1\" class=\"dataframe\">\n",
       "  <thead>\n",
       "    <tr style=\"text-align: right;\">\n",
       "      <th></th>\n",
       "      <th>text</th>\n",
       "      <th>label</th>\n",
       "    </tr>\n",
       "  </thead>\n",
       "  <tbody>\n",
       "    <tr>\n",
       "      <th>0</th>\n",
       "      <td>우측 상단 플러스버튼 클릭 후 열여섯자리 인증번호 입력하시면 됩니다</td>\n",
       "      <td>0</td>\n",
       "    </tr>\n",
       "    <tr>\n",
       "      <th>1</th>\n",
       "      <td>왔던 번호로 다시 걸어보라는 거죠</td>\n",
       "      <td>0</td>\n",
       "    </tr>\n",
       "    <tr>\n",
       "      <th>2</th>\n",
       "      <td>네 그래서 고객님 쿠폰번호 문자로요</td>\n",
       "      <td>0</td>\n",
       "    </tr>\n",
       "    <tr>\n",
       "      <th>3</th>\n",
       "      <td>당첨자에게 등록되어 있는 번호로 문자메시지 발송 드리고 있어요</td>\n",
       "      <td>0</td>\n",
       "    </tr>\n",
       "    <tr>\n",
       "      <th>4</th>\n",
       "      <td>네 핸드폰 번호 확인 감사드립니다</td>\n",
       "      <td>0</td>\n",
       "    </tr>\n",
       "    <tr>\n",
       "      <th>...</th>\n",
       "      <td>...</td>\n",
       "      <td>...</td>\n",
       "    </tr>\n",
       "    <tr>\n",
       "      <th>6932</th>\n",
       "      <td>화학 원소로 기호는 Ag(←), 원자 번호는 47</td>\n",
       "      <td>0</td>\n",
       "    </tr>\n",
       "    <tr>\n",
       "      <th>6933</th>\n",
       "      <td>등번호 ‘1’번</td>\n",
       "      <td>0</td>\n",
       "    </tr>\n",
       "    <tr>\n",
       "      <th>6934</th>\n",
       "      <td>전화번호 검색과 지도서비스</td>\n",
       "      <td>0</td>\n",
       "    </tr>\n",
       "    <tr>\n",
       "      <th>6935</th>\n",
       "      <td>현을 구멍의 번호에 따라 나누면 화음을 제공한다는 사실</td>\n",
       "      <td>0</td>\n",
       "    </tr>\n",
       "    <tr>\n",
       "      <th>6936</th>\n",
       "      <td>교황 요한 15세부터 교황 요한 19세까지를 요한 16세에서 20세까지로 잘못 번호...</td>\n",
       "      <td>0</td>\n",
       "    </tr>\n",
       "  </tbody>\n",
       "</table>\n",
       "<p>6937 rows × 2 columns</p>\n",
       "</div>"
      ]
     },
     "execution_count": 25,
     "metadata": {},
     "output_type": "execute_result"
    }
   ],
   "execution_count": 25
  },
  {
   "cell_type": "code",
   "id": "d4dd731d",
   "metadata": {
    "ExecuteTime": {
     "end_time": "2024-06-03T04:03:08.830698Z",
     "start_time": "2024-06-03T04:03:08.810016Z"
    }
   },
   "source": [
    "train_df[train_df['label']==1]"
   ],
   "outputs": [
    {
     "data": {
      "text/plain": [
       "                                                    text  label\n",
       "6937                           그 스탬프를 모으면요 어디서 어떻게 사용하나요      1\n",
       "6938                                      네 어디서 전화 주신건가요      1\n",
       "6939                    어디에서나 빛나는 주얼리 브랜드 #@소속# 고객센터 입니다      1\n",
       "6940                                  이벤트 당첨 확인은 어디서 하나요      1\n",
       "6941                                    아 어디서 볼 수 있는 건가요      1\n",
       "...                                                  ...    ...\n",
       "28106  자체적으로 확립한 고유의 세계관 안에서 국가, 전쟁, 인물상 등을 묘사하며, '모빌...      1\n",
       "28107                        현재로서 왕가수라는 곳이 어디인지는 알 수 없다.      1\n",
       "28108                          재즈풍의 발라드곡 '너는 어디에 나는 여기에'      1\n",
       "28109                        현재로서 왕가수라는 곳이 어디인지는 알 수 없다.      1\n",
       "28110                                       달은 어디에 떠 있는가      1\n",
       "\n",
       "[21174 rows x 2 columns]"
      ],
      "text/html": [
       "<div>\n",
       "<style scoped>\n",
       "    .dataframe tbody tr th:only-of-type {\n",
       "        vertical-align: middle;\n",
       "    }\n",
       "\n",
       "    .dataframe tbody tr th {\n",
       "        vertical-align: top;\n",
       "    }\n",
       "\n",
       "    .dataframe thead th {\n",
       "        text-align: right;\n",
       "    }\n",
       "</style>\n",
       "<table border=\"1\" class=\"dataframe\">\n",
       "  <thead>\n",
       "    <tr style=\"text-align: right;\">\n",
       "      <th></th>\n",
       "      <th>text</th>\n",
       "      <th>label</th>\n",
       "    </tr>\n",
       "  </thead>\n",
       "  <tbody>\n",
       "    <tr>\n",
       "      <th>6937</th>\n",
       "      <td>그 스탬프를 모으면요 어디서 어떻게 사용하나요</td>\n",
       "      <td>1</td>\n",
       "    </tr>\n",
       "    <tr>\n",
       "      <th>6938</th>\n",
       "      <td>네 어디서 전화 주신건가요</td>\n",
       "      <td>1</td>\n",
       "    </tr>\n",
       "    <tr>\n",
       "      <th>6939</th>\n",
       "      <td>어디에서나 빛나는 주얼리 브랜드 #@소속# 고객센터 입니다</td>\n",
       "      <td>1</td>\n",
       "    </tr>\n",
       "    <tr>\n",
       "      <th>6940</th>\n",
       "      <td>이벤트 당첨 확인은 어디서 하나요</td>\n",
       "      <td>1</td>\n",
       "    </tr>\n",
       "    <tr>\n",
       "      <th>6941</th>\n",
       "      <td>아 어디서 볼 수 있는 건가요</td>\n",
       "      <td>1</td>\n",
       "    </tr>\n",
       "    <tr>\n",
       "      <th>...</th>\n",
       "      <td>...</td>\n",
       "      <td>...</td>\n",
       "    </tr>\n",
       "    <tr>\n",
       "      <th>28106</th>\n",
       "      <td>자체적으로 확립한 고유의 세계관 안에서 국가, 전쟁, 인물상 등을 묘사하며, '모빌...</td>\n",
       "      <td>1</td>\n",
       "    </tr>\n",
       "    <tr>\n",
       "      <th>28107</th>\n",
       "      <td>현재로서 왕가수라는 곳이 어디인지는 알 수 없다.</td>\n",
       "      <td>1</td>\n",
       "    </tr>\n",
       "    <tr>\n",
       "      <th>28108</th>\n",
       "      <td>재즈풍의 발라드곡 '너는 어디에 나는 여기에'</td>\n",
       "      <td>1</td>\n",
       "    </tr>\n",
       "    <tr>\n",
       "      <th>28109</th>\n",
       "      <td>현재로서 왕가수라는 곳이 어디인지는 알 수 없다.</td>\n",
       "      <td>1</td>\n",
       "    </tr>\n",
       "    <tr>\n",
       "      <th>28110</th>\n",
       "      <td>달은 어디에 떠 있는가</td>\n",
       "      <td>1</td>\n",
       "    </tr>\n",
       "  </tbody>\n",
       "</table>\n",
       "<p>21174 rows × 2 columns</p>\n",
       "</div>"
      ]
     },
     "execution_count": 26,
     "metadata": {},
     "output_type": "execute_result"
    }
   ],
   "execution_count": 26
  },
  {
   "cell_type": "code",
   "id": "0b704ac1",
   "metadata": {
    "ExecuteTime": {
     "end_time": "2024-06-03T04:03:09.164541Z",
     "start_time": "2024-06-03T04:03:09.153237Z"
    }
   },
   "source": [
    "train_df[train_df['label']==2]"
   ],
   "outputs": [
    {
     "data": {
      "text/plain": [
       "                                                    text  label\n",
       "28111                                                시작일      2\n",
       "28112                                              연애 시작      2\n",
       "28113                                                 시작      2\n",
       "28114                                                 시작      2\n",
       "28115                                                 시작      2\n",
       "...                                                  ...    ...\n",
       "33739  미군과 작전통제권 이양(대한민국의 전시작전권 환수), 한미연합군사훈련, 기지 이전협상 등      2\n",
       "33740                               상륙 이후 시작된 연합군의 연료 부족      2\n",
       "33741               국제 투기꾼들이 가격을 최대한 올려놓은 다음 팔아버리기 시작한 것      2\n",
       "33742           '조지프 스미스를 소재로 뭔가 하고 싶다'는 로페즈의 제안에 제작을 시작      2\n",
       "33743        쥐라기 때부터 네바다 주 중앙의 지층파괴지대 동쪽에서 지각이 불안정해지기 시작      2\n",
       "\n",
       "[5633 rows x 2 columns]"
      ],
      "text/html": [
       "<div>\n",
       "<style scoped>\n",
       "    .dataframe tbody tr th:only-of-type {\n",
       "        vertical-align: middle;\n",
       "    }\n",
       "\n",
       "    .dataframe tbody tr th {\n",
       "        vertical-align: top;\n",
       "    }\n",
       "\n",
       "    .dataframe thead th {\n",
       "        text-align: right;\n",
       "    }\n",
       "</style>\n",
       "<table border=\"1\" class=\"dataframe\">\n",
       "  <thead>\n",
       "    <tr style=\"text-align: right;\">\n",
       "      <th></th>\n",
       "      <th>text</th>\n",
       "      <th>label</th>\n",
       "    </tr>\n",
       "  </thead>\n",
       "  <tbody>\n",
       "    <tr>\n",
       "      <th>28111</th>\n",
       "      <td>시작일</td>\n",
       "      <td>2</td>\n",
       "    </tr>\n",
       "    <tr>\n",
       "      <th>28112</th>\n",
       "      <td>연애 시작</td>\n",
       "      <td>2</td>\n",
       "    </tr>\n",
       "    <tr>\n",
       "      <th>28113</th>\n",
       "      <td>시작</td>\n",
       "      <td>2</td>\n",
       "    </tr>\n",
       "    <tr>\n",
       "      <th>28114</th>\n",
       "      <td>시작</td>\n",
       "      <td>2</td>\n",
       "    </tr>\n",
       "    <tr>\n",
       "      <th>28115</th>\n",
       "      <td>시작</td>\n",
       "      <td>2</td>\n",
       "    </tr>\n",
       "    <tr>\n",
       "      <th>...</th>\n",
       "      <td>...</td>\n",
       "      <td>...</td>\n",
       "    </tr>\n",
       "    <tr>\n",
       "      <th>33739</th>\n",
       "      <td>미군과 작전통제권 이양(대한민국의 전시작전권 환수), 한미연합군사훈련, 기지 이전협상 등</td>\n",
       "      <td>2</td>\n",
       "    </tr>\n",
       "    <tr>\n",
       "      <th>33740</th>\n",
       "      <td>상륙 이후 시작된 연합군의 연료 부족</td>\n",
       "      <td>2</td>\n",
       "    </tr>\n",
       "    <tr>\n",
       "      <th>33741</th>\n",
       "      <td>국제 투기꾼들이 가격을 최대한 올려놓은 다음 팔아버리기 시작한 것</td>\n",
       "      <td>2</td>\n",
       "    </tr>\n",
       "    <tr>\n",
       "      <th>33742</th>\n",
       "      <td>'조지프 스미스를 소재로 뭔가 하고 싶다'는 로페즈의 제안에 제작을 시작</td>\n",
       "      <td>2</td>\n",
       "    </tr>\n",
       "    <tr>\n",
       "      <th>33743</th>\n",
       "      <td>쥐라기 때부터 네바다 주 중앙의 지층파괴지대 동쪽에서 지각이 불안정해지기 시작</td>\n",
       "      <td>2</td>\n",
       "    </tr>\n",
       "  </tbody>\n",
       "</table>\n",
       "<p>5633 rows × 2 columns</p>\n",
       "</div>"
      ]
     },
     "execution_count": 27,
     "metadata": {},
     "output_type": "execute_result"
    }
   ],
   "execution_count": 27
  },
  {
   "cell_type": "code",
   "id": "1b93c30a",
   "metadata": {
    "ExecuteTime": {
     "end_time": "2024-06-03T04:03:09.465053Z",
     "start_time": "2024-06-03T04:03:09.460094Z"
    }
   },
   "source": [
    "#train_df[train_df['label']==3]"
   ],
   "outputs": [],
   "execution_count": 28
  },
  {
   "cell_type": "code",
   "id": "d53e4bd7",
   "metadata": {
    "ExecuteTime": {
     "end_time": "2024-06-03T04:03:09.808734Z",
     "start_time": "2024-06-03T04:03:09.794739Z"
    }
   },
   "source": [
    "train_df.reset_index(drop=True, inplace=True)"
   ],
   "outputs": [],
   "execution_count": 29
  },
  {
   "cell_type": "code",
   "id": "ec242b4d",
   "metadata": {
    "ExecuteTime": {
     "end_time": "2024-06-03T04:03:10.071896Z",
     "start_time": "2024-06-03T04:03:10.063233Z"
    }
   },
   "source": [
    "train_df.tail()"
   ],
   "outputs": [
    {
     "data": {
      "text/plain": [
       "                                                    text  label\n",
       "33739  미군과 작전통제권 이양(대한민국의 전시작전권 환수), 한미연합군사훈련, 기지 이전협상 등      2\n",
       "33740                               상륙 이후 시작된 연합군의 연료 부족      2\n",
       "33741               국제 투기꾼들이 가격을 최대한 올려놓은 다음 팔아버리기 시작한 것      2\n",
       "33742           '조지프 스미스를 소재로 뭔가 하고 싶다'는 로페즈의 제안에 제작을 시작      2\n",
       "33743        쥐라기 때부터 네바다 주 중앙의 지층파괴지대 동쪽에서 지각이 불안정해지기 시작      2"
      ],
      "text/html": [
       "<div>\n",
       "<style scoped>\n",
       "    .dataframe tbody tr th:only-of-type {\n",
       "        vertical-align: middle;\n",
       "    }\n",
       "\n",
       "    .dataframe tbody tr th {\n",
       "        vertical-align: top;\n",
       "    }\n",
       "\n",
       "    .dataframe thead th {\n",
       "        text-align: right;\n",
       "    }\n",
       "</style>\n",
       "<table border=\"1\" class=\"dataframe\">\n",
       "  <thead>\n",
       "    <tr style=\"text-align: right;\">\n",
       "      <th></th>\n",
       "      <th>text</th>\n",
       "      <th>label</th>\n",
       "    </tr>\n",
       "  </thead>\n",
       "  <tbody>\n",
       "    <tr>\n",
       "      <th>33739</th>\n",
       "      <td>미군과 작전통제권 이양(대한민국의 전시작전권 환수), 한미연합군사훈련, 기지 이전협상 등</td>\n",
       "      <td>2</td>\n",
       "    </tr>\n",
       "    <tr>\n",
       "      <th>33740</th>\n",
       "      <td>상륙 이후 시작된 연합군의 연료 부족</td>\n",
       "      <td>2</td>\n",
       "    </tr>\n",
       "    <tr>\n",
       "      <th>33741</th>\n",
       "      <td>국제 투기꾼들이 가격을 최대한 올려놓은 다음 팔아버리기 시작한 것</td>\n",
       "      <td>2</td>\n",
       "    </tr>\n",
       "    <tr>\n",
       "      <th>33742</th>\n",
       "      <td>'조지프 스미스를 소재로 뭔가 하고 싶다'는 로페즈의 제안에 제작을 시작</td>\n",
       "      <td>2</td>\n",
       "    </tr>\n",
       "    <tr>\n",
       "      <th>33743</th>\n",
       "      <td>쥐라기 때부터 네바다 주 중앙의 지층파괴지대 동쪽에서 지각이 불안정해지기 시작</td>\n",
       "      <td>2</td>\n",
       "    </tr>\n",
       "  </tbody>\n",
       "</table>\n",
       "</div>"
      ]
     },
     "execution_count": 30,
     "metadata": {},
     "output_type": "execute_result"
    }
   ],
   "execution_count": 30
  },
  {
   "cell_type": "code",
   "id": "d67109b3",
   "metadata": {
    "ExecuteTime": {
     "end_time": "2024-06-03T04:03:10.333088Z",
     "start_time": "2024-06-03T04:03:10.290456Z"
    }
   },
   "source": [
    "train_df.to_csv(\"train_data.csv\", index=False)"
   ],
   "outputs": [],
   "execution_count": 31
  },
  {
   "cell_type": "markdown",
   "id": "1923b672",
   "metadata": {},
   "source": [
    "## 3. 적절한 패딩 길이 구하기"
   ]
  },
  {
   "cell_type": "code",
   "id": "df402d1e",
   "metadata": {
    "ExecuteTime": {
     "end_time": "2024-06-03T04:03:10.697105Z",
     "start_time": "2024-06-03T04:03:10.649433Z"
    }
   },
   "source": [
    "data = pd.read_csv('train_data.csv')"
   ],
   "outputs": [],
   "execution_count": 32
  },
  {
   "cell_type": "code",
   "id": "446033ca",
   "metadata": {
    "ExecuteTime": {
     "end_time": "2024-06-03T04:03:10.840547Z",
     "start_time": "2024-06-03T04:03:10.832491Z"
    }
   },
   "source": [
    "data.shape"
   ],
   "outputs": [
    {
     "data": {
      "text/plain": [
       "(33744, 2)"
      ]
     },
     "execution_count": 33,
     "metadata": {},
     "output_type": "execute_result"
    }
   ],
   "execution_count": 33
  },
  {
   "cell_type": "code",
   "id": "96f4c673",
   "metadata": {
    "ExecuteTime": {
     "end_time": "2024-06-03T04:03:13.016128Z",
     "start_time": "2024-06-03T04:03:11.005909Z"
    }
   },
   "source": [
    "tokenizer = Komoran()"
   ],
   "outputs": [],
   "execution_count": 34
  },
  {
   "cell_type": "code",
   "id": "c3f89ecd",
   "metadata": {
    "ExecuteTime": {
     "end_time": "2024-06-03T04:03:19.947095Z",
     "start_time": "2024-06-03T04:03:13.017Z"
    }
   },
   "source": [
    "data_tokenized = [[token+\"/\"+POS for token, POS in tokenizer.pos(text_)] for text_ in data['text']]\n",
    "\n",
    "exclusion_tags = [\n",
    "    'JKS', 'JKC', 'JKG', 'JKO', 'JKB', 'JKV', 'JKQ',\n",
    "            'JX', 'JC',\n",
    "            'SF', 'SP', 'SS', 'SE', 'SO',\n",
    "            'EP', 'EF', 'EC', 'ETN', 'ETM',\n",
    "            'XSN', 'XSV', 'XSA'\n",
    "]\n",
    "\n",
    "f = lambda x: x in exclusion_tags\n",
    "\n",
    "data_list = []\n",
    "for i in range(len(data_tokenized)):\n",
    "        temp = []\n",
    "        for j in range(len(data_tokenized[i])):\n",
    "            if f(data_tokenized[i][j].split('/')[1]) is False:\n",
    "                temp.append(data_tokenized[i][j].split('/')[0])\n",
    "        data_list.append(temp)"
   ],
   "outputs": [],
   "execution_count": 35
  },
  {
   "cell_type": "code",
   "id": "8f8f3a69",
   "metadata": {
    "ExecuteTime": {
     "end_time": "2024-06-03T04:03:19.954746Z",
     "start_time": "2024-06-03T04:03:19.947095Z"
    }
   },
   "source": [
    "num_tokens = [len(tokens) for tokens in data_list]\n",
    "num_tokens = np.array(num_tokens)\n",
    "\n",
    "# 평균값, 최댓값, 표준편차\n",
    "print(f\"토큰 길이 평균: {np.mean(num_tokens)}\")\n",
    "print(f\"토큰 길이 최대: {np.max(num_tokens)}\")\n",
    "print(f\"토큰 길이 표준편차: {np.std(num_tokens)}\")"
   ],
   "outputs": [
    {
     "name": "stdout",
     "output_type": "stream",
     "text": [
      "토큰 길이 평균: 6.595424371740161\n",
      "토큰 길이 최대: 54\n",
      "토큰 길이 표준편차: 3.0920020908649732\n"
     ]
    }
   ],
   "execution_count": 36
  },
  {
   "cell_type": "code",
   "id": "db301a47",
   "metadata": {
    "ExecuteTime": {
     "end_time": "2024-06-03T04:03:20.126438Z",
     "start_time": "2024-06-03T04:03:19.955769Z"
    }
   },
   "source": [
    "plt.title('all text length')\n",
    "plt.hist(num_tokens, bins=100)\n",
    "plt.xlabel('length of samples')\n",
    "plt.ylabel('number of samples')\n",
    "plt.show()"
   ],
   "outputs": [
    {
     "data": {
      "text/plain": [
       "<Figure size 640x480 with 1 Axes>"
      ],
      "image/png": "[encoded data removed]"
     },
     "metadata": {},
     "output_type": "display_data"
    }
   ],
   "execution_count": 37
  },
  {
   "cell_type": "code",
   "id": "2751e998",
   "metadata": {
    "ExecuteTime": {
     "end_time": "2024-06-03T04:03:20.132685Z",
     "start_time": "2024-06-03T04:03:20.127225Z"
    }
   },
   "source": [
    "select_length = 25\n",
    "\n",
    "def below_threshold_len(max_len, nested_list):\n",
    "    cnt = 0\n",
    "    for s in nested_list:\n",
    "        if(len(s) <= max_len):\n",
    "            cnt = cnt + 1\n",
    "        \n",
    "    print('전체 샘플 중 길이가 %s 이하인 샘플의 비율: %s'%(max_len, (cnt / len(nested_list))))\n",
    "    \n",
    "below_threshold_len(select_length, data_list)"
   ],
   "outputs": [
    {
     "name": "stdout",
     "output_type": "stream",
     "text": [
      "전체 샘플 중 길이가 25 이하인 샘플의 비율: 0.9991405879563774\n"
     ]
    }
   ],
   "execution_count": 38
  }
 ],
 "metadata": {
  "kernelspec": {
   "display_name": "Python 3 (ipykernel)",
   "language": "python",
   "name": "python3"
  },
  "language_info": {
   "codemirror_mode": {
    "name": "ipython",
    "version": 3
   },
   "file_extension": ".py",
   "mimetype": "text/x-python",
   "name": "python",
   "nbconvert_exporter": "python",
   "pygments_lexer": "ipython3",
   "version": "3.8.5"
  }
 },
 "nbformat": 4,
 "nbformat_minor": 5
}
