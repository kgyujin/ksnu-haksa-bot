{
 "cells": [
  {
   "cell_type": "markdown",
   "id": "8ef75773",
   "metadata": {},
   "source": [
    "# 의도 분류 모델 학습 데이터 생성하기"
   ]
  },
  {
   "cell_type": "markdown",
   "id": "e1029818",
   "metadata": {},
   "source": [
    "## 0. Import"
   ]
  },
  {
   "cell_type": "code",
   "id": "a07b3b07",
   "metadata": {
    "ExecuteTime": {
     "end_time": "2024-06-07T11:40:18.259258Z",
     "start_time": "2024-06-07T11:40:18.208360Z"
    }
   },
   "source": [
    "import pandas as pd\n",
    "import numpy as np\n",
    "import matplotlib.pyplot as plt\n",
    "import seaborn as sns\n",
    "from konlpy.tag import Komoran\n",
    "import matplotlib.pyplot as plt"
   ],
   "outputs": [],
   "execution_count": 3
  },
  {
   "cell_type": "markdown",
   "id": "c1622aea",
   "metadata": {},
   "source": [
    "## 1. 데이터 불러오기"
   ]
  },
  {
   "cell_type": "code",
   "id": "78296814",
   "metadata": {
    "ExecuteTime": {
     "end_time": "2024-06-07T11:40:21.050842Z",
     "start_time": "2024-06-07T11:40:19.045903Z"
    }
   },
   "source": [
    "time_expression = pd.read_csv(\"../dataset/trans-dataset/시간표현탐지데이터.csv\")\n",
    "purpose = pd.read_csv(\"../dataset/trans-dataset/용도별목적대화데이터.csv\")\n",
    "topic = pd.read_csv(\"../dataset/trans-dataset/주제별일상대화데이터.csv\")\n",
    "common_sense = pd.read_csv(\"../dataset/trans-dataset/일반상식.csv\")\n",
    "movie_review = pd.read_csv(\"../dataset/trans-dataset/영화리뷰.csv\")\n",
    "# add = pd.read_csv(\"../../변형데이터/추가데이터.csv\")\n",
    "\n",
    "time_expression.dropna(inplace=True)\n",
    "purpose.dropna(inplace=True)\n",
    "topic.dropna(inplace=True)\n",
    "common_sense.dropna(inplace=True)\n",
    "movie_review.dropna(inplace=True)\n",
    "# add.dropna(inplace=True)"
   ],
   "outputs": [],
   "execution_count": 4
  },
  {
   "cell_type": "code",
   "id": "9a032b57",
   "metadata": {
    "ExecuteTime": {
     "end_time": "2024-06-07T11:40:21.055547Z",
     "start_time": "2024-06-07T11:40:21.051852Z"
    }
   },
   "source": [
    "print(f\"time_expression shape => {time_expression.shape}\\n\\\n",
    "purpose shape => {purpose.shape}\\n\\\n",
    "topic shape => {topic.shape}\\n\\\n",
    "common_sense shape => {common_sense.shape}\\n\\\n",
    "movie_review shape => {movie_review.shape}\\n\\\n",
    "\")\n",
    "# add => {add.shape}\")"
   ],
   "outputs": [
    {
     "name": "stdout",
     "output_type": "stream",
     "text": [
      "time_expression shape => (278781, 1)\n",
      "purpose shape => (172442, 1)\n",
      "topic shape => (1445793, 1)\n",
      "common_sense shape => (68538, 3)\n",
      "movie_review shape => (199992, 3)\n",
      "\n"
     ]
    }
   ],
   "execution_count": 5
  },
  {
   "cell_type": "code",
   "id": "e930d8f9",
   "metadata": {
    "scrolled": true,
    "ExecuteTime": {
     "end_time": "2024-06-07T11:40:21.060867Z",
     "start_time": "2024-06-07T11:40:21.055547Z"
    }
   },
   "source": "time_expression.columns",
   "outputs": [
    {
     "data": {
      "text/plain": [
       "Index(['text'], dtype='object')"
      ]
     },
     "execution_count": 6,
     "metadata": {},
     "output_type": "execute_result"
    }
   ],
   "execution_count": 6
  },
  {
   "cell_type": "code",
   "id": "371eea71",
   "metadata": {
    "ExecuteTime": {
     "end_time": "2024-06-07T11:40:21.064858Z",
     "start_time": "2024-06-07T11:40:21.060867Z"
    }
   },
   "source": [
    "purpose.columns"
   ],
   "outputs": [
    {
     "data": {
      "text/plain": [
       "Index(['text'], dtype='object')"
      ]
     },
     "execution_count": 7,
     "metadata": {},
     "output_type": "execute_result"
    }
   ],
   "execution_count": 7
  },
  {
   "cell_type": "code",
   "id": "e9d91947",
   "metadata": {
    "ExecuteTime": {
     "end_time": "2024-06-07T11:40:21.069396Z",
     "start_time": "2024-06-07T11:40:21.065938Z"
    }
   },
   "source": [
    "topic.columns"
   ],
   "outputs": [
    {
     "data": {
      "text/plain": [
       "Index(['text'], dtype='object')"
      ]
     },
     "execution_count": 8,
     "metadata": {},
     "output_type": "execute_result"
    }
   ],
   "execution_count": 8
  },
  {
   "cell_type": "code",
   "id": "16cf0f59",
   "metadata": {
    "ExecuteTime": {
     "end_time": "2024-06-07T11:40:21.073251Z",
     "start_time": "2024-06-07T11:40:21.069396Z"
    }
   },
   "source": [
    "common_sense.columns"
   ],
   "outputs": [
    {
     "data": {
      "text/plain": [
       "Index(['intent', 'query', 'answer'], dtype='object')"
      ]
     },
     "execution_count": 9,
     "metadata": {},
     "output_type": "execute_result"
    }
   ],
   "execution_count": 9
  },
  {
   "metadata": {
    "ExecuteTime": {
     "end_time": "2024-06-07T11:40:21.166020Z",
     "start_time": "2024-06-07T11:40:21.148734Z"
    }
   },
   "cell_type": "code",
   "source": "movie_review.columns",
   "id": "5892095efaf790d",
   "outputs": [
    {
     "data": {
      "text/plain": [
       "Index(['id', 'document', 'label'], dtype='object')"
      ]
     },
     "execution_count": 10,
     "metadata": {},
     "output_type": "execute_result"
    }
   ],
   "execution_count": 10
  },
  {
   "cell_type": "code",
   "id": "76d84076",
   "metadata": {
    "ExecuteTime": {
     "end_time": "2024-06-07T11:40:21.547621Z",
     "start_time": "2024-06-07T11:40:21.542473Z"
    }
   },
   "source": "# add.columns",
   "outputs": [],
   "execution_count": 11
  },
  {
   "cell_type": "code",
   "id": "66dff7cd",
   "metadata": {
    "ExecuteTime": {
     "end_time": "2024-06-07T11:40:22.029994Z",
     "start_time": "2024-06-07T11:40:21.836334Z"
    }
   },
   "source": [
    "# all_data = list(time_expression['text']) + list(purpose['text']) + list(topic['text']) + list(common_sense['query']) \\\n",
    "# + list(common_sense['answer']) + list(add['query'])\n",
    "\n",
    "all_data = list(time_expression['text']) + list(purpose['text']) + list(topic['text']) + list(common_sense['query']) \\\n",
    "+ list(common_sense['answer']) + list(movie_review['document'])"
   ],
   "outputs": [],
   "execution_count": 12
  },
  {
   "cell_type": "code",
   "id": "2e60ebc3",
   "metadata": {
    "ExecuteTime": {
     "end_time": "2024-06-07T11:40:22.231683Z",
     "start_time": "2024-06-07T11:40:22.226047Z"
    }
   },
   "source": "len(all_data)",
   "outputs": [
    {
     "data": {
      "text/plain": [
       "2234084"
      ]
     },
     "execution_count": 13,
     "metadata": {},
     "output_type": "execute_result"
    }
   ],
   "execution_count": 13
  },
  {
   "cell_type": "code",
   "id": "a286016c",
   "metadata": {
    "ExecuteTime": {
     "end_time": "2024-06-07T11:40:24.791613Z",
     "start_time": "2024-06-07T11:40:22.846069Z"
    }
   },
   "source": [
    "# 통합본 생성하고 저장하기\n",
    "total = pd.DataFrame({'text': all_data})\n",
    "total.to_csv(\"../dataset/trans-dataset/통합본데이터.csv\", index=False)"
   ],
   "outputs": [],
   "execution_count": 14
  },
  {
   "cell_type": "markdown",
   "id": "ffb7d227",
   "metadata": {},
   "source": [
    "## 2. 의도 분류 데이터 생성하기"
   ]
  },
  {
   "cell_type": "markdown",
   "id": "8b479de5",
   "metadata": {},
   "source": "0 -> 교수, 1 -> 장소, 2 -> 시간, 3 -> 강의"
  },
  {
   "cell_type": "code",
   "id": "7d087451",
   "metadata": {
    "ExecuteTime": {
     "end_time": "2024-06-07T11:40:25.057632Z",
     "start_time": "2024-06-07T11:40:25.052139Z"
    }
   },
   "source": [
    "professor = []\n",
    "place = []\n",
    "time = []\n",
    "lecture = []\n",
    "etc = []"
   ],
   "outputs": [],
   "execution_count": 15
  },
  {
   "cell_type": "code",
   "id": "3f01b0da",
   "metadata": {
    "ExecuteTime": {
     "end_time": "2024-06-07T11:49:24.400303Z",
     "start_time": "2024-06-07T11:49:23.941089Z"
    }
   },
   "source": [
    "for i in all_data:\n",
    "    if ('어디' or '과사' or '강의실' or '장소' or '위치' or '주소' or '과사무실' or '컴공' or '연구실') in i: place.append(i)\n",
    "    elif ('교수' or '교수님') in i: professor.append(i)\n",
    "    elif ('언제' or '개강' or '종강' or '학기' or '시작' or '마감' or '기간' or '시간' or '일정' or '날짜' or '일자' or '운영시간' or '강의시간' or '1학기' or '2학기'\n",
    "                # or '변경일' or '취소일' or '마감일' or '평가일' or '보고일' or '신청일' or '보강일' or '중간고사' or '기말고사' or '정정일' or '종강일' or '교수강의평가일'\n",
    "    ) in i: time.append(i)\n",
    "    elif ('학점' or '전공' or '강의' or '수업' or '학년' or '과목') in i: lecture.append(i)\n",
    "    else: etc.append(i)"
   ],
   "outputs": [],
   "execution_count": 44
  },
  {
   "cell_type": "code",
   "id": "5573135e",
   "metadata": {
    "ExecuteTime": {
     "end_time": "2024-06-07T11:49:24.405354Z",
     "start_time": "2024-06-07T11:49:24.400303Z"
    }
   },
   "source": "len(professor)",
   "outputs": [
    {
     "data": {
      "text/plain": [
       "1376"
      ]
     },
     "execution_count": 45,
     "metadata": {},
     "output_type": "execute_result"
    }
   ],
   "execution_count": 45
  },
  {
   "cell_type": "code",
   "id": "fccab236",
   "metadata": {
    "ExecuteTime": {
     "end_time": "2024-06-07T11:49:24.437047Z",
     "start_time": "2024-06-07T11:49:24.405354Z"
    }
   },
   "source": [
    "professor_label = []\n",
    "for _ in range(len(professor)):\n",
    "    professor_label.append(0)\n",
    "len(professor_label)"
   ],
   "outputs": [
    {
     "data": {
      "text/plain": [
       "1376"
      ]
     },
     "execution_count": 46,
     "metadata": {},
     "output_type": "execute_result"
    }
   ],
   "execution_count": 46
  },
  {
   "cell_type": "code",
   "id": "492f141f",
   "metadata": {
    "ExecuteTime": {
     "end_time": "2024-06-07T11:49:24.540745Z",
     "start_time": "2024-06-07T11:49:24.535264Z"
    }
   },
   "source": [
    "len(place)"
   ],
   "outputs": [
    {
     "data": {
      "text/plain": [
       "44668"
      ]
     },
     "execution_count": 47,
     "metadata": {},
     "output_type": "execute_result"
    }
   ],
   "execution_count": 47
  },
  {
   "cell_type": "code",
   "id": "b144fade",
   "metadata": {
    "ExecuteTime": {
     "end_time": "2024-06-07T11:49:24.693878Z",
     "start_time": "2024-06-07T11:49:24.677755Z"
    }
   },
   "source": [
    "place_label = []\n",
    "for _ in range(len(place)):\n",
    "    place_label.append(1)\n",
    "len(place_label)"
   ],
   "outputs": [
    {
     "data": {
      "text/plain": [
       "44668"
      ]
     },
     "execution_count": 48,
     "metadata": {},
     "output_type": "execute_result"
    }
   ],
   "execution_count": 48
  },
  {
   "cell_type": "code",
   "id": "55c0206b",
   "metadata": {
    "ExecuteTime": {
     "end_time": "2024-06-07T11:49:24.875020Z",
     "start_time": "2024-06-07T11:49:24.870820Z"
    }
   },
   "source": [
    "len(time)"
   ],
   "outputs": [
    {
     "data": {
      "text/plain": [
       "38610"
      ]
     },
     "execution_count": 49,
     "metadata": {},
     "output_type": "execute_result"
    }
   ],
   "execution_count": 49
  },
  {
   "cell_type": "code",
   "id": "b50ffe98",
   "metadata": {
    "scrolled": true,
    "ExecuteTime": {
     "end_time": "2024-06-07T11:49:24.970760Z",
     "start_time": "2024-06-07T11:49:24.964731Z"
    }
   },
   "source": [
    "time_label = []\n",
    "for _ in range(len(time)):\n",
    "    time_label.append(2)\n",
    "len(time_label)"
   ],
   "outputs": [
    {
     "data": {
      "text/plain": [
       "38610"
      ]
     },
     "execution_count": 50,
     "metadata": {},
     "output_type": "execute_result"
    }
   ],
   "execution_count": 50
  },
  {
   "metadata": {
    "ExecuteTime": {
     "end_time": "2024-06-07T11:49:25.183113Z",
     "start_time": "2024-06-07T11:49:25.176961Z"
    }
   },
   "cell_type": "code",
   "source": "len(lecture)",
   "id": "e82a7fdeb37230e",
   "outputs": [
    {
     "data": {
      "text/plain": [
       "388"
      ]
     },
     "execution_count": 51,
     "metadata": {},
     "output_type": "execute_result"
    }
   ],
   "execution_count": 51
  },
  {
   "metadata": {
    "ExecuteTime": {
     "end_time": "2024-06-07T11:49:25.350386Z",
     "start_time": "2024-06-07T11:49:25.346039Z"
    }
   },
   "cell_type": "code",
   "source": [
    "lecture_label = []\n",
    "for _ in range(len(lecture)):\n",
    "    lecture_label.append(3)\n",
    "len(lecture_label)"
   ],
   "id": "b4f1e1822a840428",
   "outputs": [
    {
     "data": {
      "text/plain": [
       "388"
      ]
     },
     "execution_count": 52,
     "metadata": {},
     "output_type": "execute_result"
    }
   ],
   "execution_count": 52
  },
  {
   "cell_type": "code",
   "id": "5ab3141b",
   "metadata": {
    "ExecuteTime": {
     "end_time": "2024-06-07T11:49:25.490544Z",
     "start_time": "2024-06-07T11:49:25.484383Z"
    }
   },
   "source": [
    "#import random\n",
    "#random.seed(42)\n",
    "#etc_sample = random.sample(etc, 20000)"
   ],
   "outputs": [],
   "execution_count": 53
  },
  {
   "cell_type": "code",
   "id": "4c10f994",
   "metadata": {
    "ExecuteTime": {
     "end_time": "2024-06-07T11:49:25.642009Z",
     "start_time": "2024-06-07T11:49:25.630391Z"
    }
   },
   "source": [
    "#etc_sample_label = []\n",
    "#for _ in range(len(etc_sample)):\n",
    "#    etc_sample_label.append(3)\n",
    "#len(etc_sample_label)"
   ],
   "outputs": [],
   "execution_count": 54
  },
  {
   "cell_type": "code",
   "id": "72f5fcef",
   "metadata": {
    "ExecuteTime": {
     "end_time": "2024-06-07T11:49:25.923172Z",
     "start_time": "2024-06-07T11:49:25.896088Z"
    }
   },
   "source": [
    "train_df = pd.DataFrame({'text':professor+place+time+lecture,\n",
    "                         'label':professor_label+place_label+time_label+lecture_label})"
   ],
   "outputs": [],
   "execution_count": 55
  },
  {
   "cell_type": "code",
   "id": "70ed7924",
   "metadata": {
    "ExecuteTime": {
     "end_time": "2024-06-07T11:49:26.061836Z",
     "start_time": "2024-06-07T11:49:26.055143Z"
    }
   },
   "source": [
    "train_df.head()"
   ],
   "outputs": [
    {
     "data": {
      "text/plain": [
       "                                       text  label\n",
       "0                             노노 교수들은 힘들다드라      0\n",
       "1                                교수들 엄청 좋아함      0\n",
       "2  교수님이 말씀하시길 에이는 비래 그래서 고로 에이는 에프래 뭔소리냐 키키      0\n",
       "3              교수님이 요즘 자꾸 취직했냐고 물어보셔서 부담이 돼      0\n",
       "4             너 대학원 다닐 때 교수님이 너 별로 안좋아하셨잖아.      0"
      ],
      "text/html": [
       "<div>\n",
       "<style scoped>\n",
       "    .dataframe tbody tr th:only-of-type {\n",
       "        vertical-align: middle;\n",
       "    }\n",
       "\n",
       "    .dataframe tbody tr th {\n",
       "        vertical-align: top;\n",
       "    }\n",
       "\n",
       "    .dataframe thead th {\n",
       "        text-align: right;\n",
       "    }\n",
       "</style>\n",
       "<table border=\"1\" class=\"dataframe\">\n",
       "  <thead>\n",
       "    <tr style=\"text-align: right;\">\n",
       "      <th></th>\n",
       "      <th>text</th>\n",
       "      <th>label</th>\n",
       "    </tr>\n",
       "  </thead>\n",
       "  <tbody>\n",
       "    <tr>\n",
       "      <th>0</th>\n",
       "      <td>노노 교수들은 힘들다드라</td>\n",
       "      <td>0</td>\n",
       "    </tr>\n",
       "    <tr>\n",
       "      <th>1</th>\n",
       "      <td>교수들 엄청 좋아함</td>\n",
       "      <td>0</td>\n",
       "    </tr>\n",
       "    <tr>\n",
       "      <th>2</th>\n",
       "      <td>교수님이 말씀하시길 에이는 비래 그래서 고로 에이는 에프래 뭔소리냐 키키</td>\n",
       "      <td>0</td>\n",
       "    </tr>\n",
       "    <tr>\n",
       "      <th>3</th>\n",
       "      <td>교수님이 요즘 자꾸 취직했냐고 물어보셔서 부담이 돼</td>\n",
       "      <td>0</td>\n",
       "    </tr>\n",
       "    <tr>\n",
       "      <th>4</th>\n",
       "      <td>너 대학원 다닐 때 교수님이 너 별로 안좋아하셨잖아.</td>\n",
       "      <td>0</td>\n",
       "    </tr>\n",
       "  </tbody>\n",
       "</table>\n",
       "</div>"
      ]
     },
     "execution_count": 56,
     "metadata": {},
     "output_type": "execute_result"
    }
   ],
   "execution_count": 56
  },
  {
   "cell_type": "code",
   "id": "6279d601",
   "metadata": {
    "ExecuteTime": {
     "end_time": "2024-06-07T11:49:26.224978Z",
     "start_time": "2024-06-07T11:49:26.208133Z"
    }
   },
   "source": [
    "train_df.tail()"
   ],
   "outputs": [
    {
     "data": {
      "text/plain": [
       "                                                    text  label\n",
       "85037  한 학기 동안의 해외 인턴십을 수료한 후 본교에서 학기와 학점을 인정받을 수 있는 ...      3\n",
       "85038                                        126 ~ 140학점      3\n",
       "85039                                 이 영화를 보고 학점이 올랐습니다      3\n",
       "85040            주인공의 얼굴과 무술에 별두개 영화는 차라리 'f학점의 첩보원'을 보자      3\n",
       "85041                                    학점 2.0아래까지 찍어보자      3"
      ],
      "text/html": [
       "<div>\n",
       "<style scoped>\n",
       "    .dataframe tbody tr th:only-of-type {\n",
       "        vertical-align: middle;\n",
       "    }\n",
       "\n",
       "    .dataframe tbody tr th {\n",
       "        vertical-align: top;\n",
       "    }\n",
       "\n",
       "    .dataframe thead th {\n",
       "        text-align: right;\n",
       "    }\n",
       "</style>\n",
       "<table border=\"1\" class=\"dataframe\">\n",
       "  <thead>\n",
       "    <tr style=\"text-align: right;\">\n",
       "      <th></th>\n",
       "      <th>text</th>\n",
       "      <th>label</th>\n",
       "    </tr>\n",
       "  </thead>\n",
       "  <tbody>\n",
       "    <tr>\n",
       "      <th>85037</th>\n",
       "      <td>한 학기 동안의 해외 인턴십을 수료한 후 본교에서 학기와 학점을 인정받을 수 있는 ...</td>\n",
       "      <td>3</td>\n",
       "    </tr>\n",
       "    <tr>\n",
       "      <th>85038</th>\n",
       "      <td>126 ~ 140학점</td>\n",
       "      <td>3</td>\n",
       "    </tr>\n",
       "    <tr>\n",
       "      <th>85039</th>\n",
       "      <td>이 영화를 보고 학점이 올랐습니다</td>\n",
       "      <td>3</td>\n",
       "    </tr>\n",
       "    <tr>\n",
       "      <th>85040</th>\n",
       "      <td>주인공의 얼굴과 무술에 별두개 영화는 차라리 'f학점의 첩보원'을 보자</td>\n",
       "      <td>3</td>\n",
       "    </tr>\n",
       "    <tr>\n",
       "      <th>85041</th>\n",
       "      <td>학점 2.0아래까지 찍어보자</td>\n",
       "      <td>3</td>\n",
       "    </tr>\n",
       "  </tbody>\n",
       "</table>\n",
       "</div>"
      ]
     },
     "execution_count": 57,
     "metadata": {},
     "output_type": "execute_result"
    }
   ],
   "execution_count": 57
  },
  {
   "cell_type": "code",
   "id": "7911d678",
   "metadata": {
    "ExecuteTime": {
     "end_time": "2024-06-07T11:49:26.338665Z",
     "start_time": "2024-06-07T11:49:26.327461Z"
    }
   },
   "source": [
    "train_df[train_df['label']==0]"
   ],
   "outputs": [
    {
     "data": {
      "text/plain": [
       "                                                   text  label\n",
       "0                                         노노 교수들은 힘들다드라      0\n",
       "1                                            교수들 엄청 좋아함      0\n",
       "2              교수님이 말씀하시길 에이는 비래 그래서 고로 에이는 에프래 뭔소리냐 키키      0\n",
       "3                          교수님이 요즘 자꾸 취직했냐고 물어보셔서 부담이 돼      0\n",
       "4                         너 대학원 다닐 때 교수님이 너 별로 안좋아하셨잖아.      0\n",
       "...                                                 ...    ...\n",
       "1371  고해성사는 가까운 동네 성당에 가서 하세요. 돈들여 페루까지 가지 말고... 겉 멋...      0\n",
       "1372  추리에 긴장감도 없고 연기 몰입도도 없고..교수랑 조교만 없으면....혹시나 해서 ...      0\n",
       "1373  친절하지도 않고, 방법론에 대한 연구도 없이 그냥 한국영화 역사만 나열했다. 이게 ...      0\n",
       "1374  어처구니가 없는게 아니 재판에 불만있다고해서 석궁들고 판사에게 찾아간거 자체가 잘못...      0\n",
       "1375         제인오스틴이라지만 너무 지루했던 상,하편...비슷한결말...스네이프교수님;;      0\n",
       "\n",
       "[1376 rows x 2 columns]"
      ],
      "text/html": [
       "<div>\n",
       "<style scoped>\n",
       "    .dataframe tbody tr th:only-of-type {\n",
       "        vertical-align: middle;\n",
       "    }\n",
       "\n",
       "    .dataframe tbody tr th {\n",
       "        vertical-align: top;\n",
       "    }\n",
       "\n",
       "    .dataframe thead th {\n",
       "        text-align: right;\n",
       "    }\n",
       "</style>\n",
       "<table border=\"1\" class=\"dataframe\">\n",
       "  <thead>\n",
       "    <tr style=\"text-align: right;\">\n",
       "      <th></th>\n",
       "      <th>text</th>\n",
       "      <th>label</th>\n",
       "    </tr>\n",
       "  </thead>\n",
       "  <tbody>\n",
       "    <tr>\n",
       "      <th>0</th>\n",
       "      <td>노노 교수들은 힘들다드라</td>\n",
       "      <td>0</td>\n",
       "    </tr>\n",
       "    <tr>\n",
       "      <th>1</th>\n",
       "      <td>교수들 엄청 좋아함</td>\n",
       "      <td>0</td>\n",
       "    </tr>\n",
       "    <tr>\n",
       "      <th>2</th>\n",
       "      <td>교수님이 말씀하시길 에이는 비래 그래서 고로 에이는 에프래 뭔소리냐 키키</td>\n",
       "      <td>0</td>\n",
       "    </tr>\n",
       "    <tr>\n",
       "      <th>3</th>\n",
       "      <td>교수님이 요즘 자꾸 취직했냐고 물어보셔서 부담이 돼</td>\n",
       "      <td>0</td>\n",
       "    </tr>\n",
       "    <tr>\n",
       "      <th>4</th>\n",
       "      <td>너 대학원 다닐 때 교수님이 너 별로 안좋아하셨잖아.</td>\n",
       "      <td>0</td>\n",
       "    </tr>\n",
       "    <tr>\n",
       "      <th>...</th>\n",
       "      <td>...</td>\n",
       "      <td>...</td>\n",
       "    </tr>\n",
       "    <tr>\n",
       "      <th>1371</th>\n",
       "      <td>고해성사는 가까운 동네 성당에 가서 하세요. 돈들여 페루까지 가지 말고... 겉 멋...</td>\n",
       "      <td>0</td>\n",
       "    </tr>\n",
       "    <tr>\n",
       "      <th>1372</th>\n",
       "      <td>추리에 긴장감도 없고 연기 몰입도도 없고..교수랑 조교만 없으면....혹시나 해서 ...</td>\n",
       "      <td>0</td>\n",
       "    </tr>\n",
       "    <tr>\n",
       "      <th>1373</th>\n",
       "      <td>친절하지도 않고, 방법론에 대한 연구도 없이 그냥 한국영화 역사만 나열했다. 이게 ...</td>\n",
       "      <td>0</td>\n",
       "    </tr>\n",
       "    <tr>\n",
       "      <th>1374</th>\n",
       "      <td>어처구니가 없는게 아니 재판에 불만있다고해서 석궁들고 판사에게 찾아간거 자체가 잘못...</td>\n",
       "      <td>0</td>\n",
       "    </tr>\n",
       "    <tr>\n",
       "      <th>1375</th>\n",
       "      <td>제인오스틴이라지만 너무 지루했던 상,하편...비슷한결말...스네이프교수님;;</td>\n",
       "      <td>0</td>\n",
       "    </tr>\n",
       "  </tbody>\n",
       "</table>\n",
       "<p>1376 rows × 2 columns</p>\n",
       "</div>"
      ]
     },
     "execution_count": 58,
     "metadata": {},
     "output_type": "execute_result"
    }
   ],
   "execution_count": 58
  },
  {
   "cell_type": "code",
   "id": "d4dd731d",
   "metadata": {
    "ExecuteTime": {
     "end_time": "2024-06-07T11:49:26.508119Z",
     "start_time": "2024-06-07T11:49:26.498199Z"
    }
   },
   "source": [
    "train_df[train_df['label']==1]"
   ],
   "outputs": [
    {
     "data": {
      "text/plain": [
       "                                                    text  label\n",
       "1376                           그 스탬프를 모으면요 어디서 어떻게 사용하나요      1\n",
       "1377                                      네 어디서 전화 주신건가요      1\n",
       "1378                    어디에서나 빛나는 주얼리 브랜드 #@소속# 고객센터 입니다      1\n",
       "1379                                  이벤트 당첨 확인은 어디서 하나요      1\n",
       "1380                                    아 어디서 볼 수 있는 건가요      1\n",
       "...                                                  ...    ...\n",
       "46039                     두남자의 숨막히는 추격전??? 어디??? 아...짱나~      1\n",
       "46040  선비의 자손으로서 아주 복장 터지는 영화!! 황새는 황새다워야 하고 뱃새는 뱃새다워...      1\n",
       "46041                                          감독 집이 어디냐      1\n",
       "46042  satc원작 드라마에 먹칠을 한거 같은 영화드라마도 5후반까진 괜찮았으나 인기입어 ...      1\n",
       "46043  이게 실화라고 장난하나 18.. 세상에 하나님이 어디 있다고.. 영화도 개독교에 미...      1\n",
       "\n",
       "[44668 rows x 2 columns]"
      ],
      "text/html": [
       "<div>\n",
       "<style scoped>\n",
       "    .dataframe tbody tr th:only-of-type {\n",
       "        vertical-align: middle;\n",
       "    }\n",
       "\n",
       "    .dataframe tbody tr th {\n",
       "        vertical-align: top;\n",
       "    }\n",
       "\n",
       "    .dataframe thead th {\n",
       "        text-align: right;\n",
       "    }\n",
       "</style>\n",
       "<table border=\"1\" class=\"dataframe\">\n",
       "  <thead>\n",
       "    <tr style=\"text-align: right;\">\n",
       "      <th></th>\n",
       "      <th>text</th>\n",
       "      <th>label</th>\n",
       "    </tr>\n",
       "  </thead>\n",
       "  <tbody>\n",
       "    <tr>\n",
       "      <th>1376</th>\n",
       "      <td>그 스탬프를 모으면요 어디서 어떻게 사용하나요</td>\n",
       "      <td>1</td>\n",
       "    </tr>\n",
       "    <tr>\n",
       "      <th>1377</th>\n",
       "      <td>네 어디서 전화 주신건가요</td>\n",
       "      <td>1</td>\n",
       "    </tr>\n",
       "    <tr>\n",
       "      <th>1378</th>\n",
       "      <td>어디에서나 빛나는 주얼리 브랜드 #@소속# 고객센터 입니다</td>\n",
       "      <td>1</td>\n",
       "    </tr>\n",
       "    <tr>\n",
       "      <th>1379</th>\n",
       "      <td>이벤트 당첨 확인은 어디서 하나요</td>\n",
       "      <td>1</td>\n",
       "    </tr>\n",
       "    <tr>\n",
       "      <th>1380</th>\n",
       "      <td>아 어디서 볼 수 있는 건가요</td>\n",
       "      <td>1</td>\n",
       "    </tr>\n",
       "    <tr>\n",
       "      <th>...</th>\n",
       "      <td>...</td>\n",
       "      <td>...</td>\n",
       "    </tr>\n",
       "    <tr>\n",
       "      <th>46039</th>\n",
       "      <td>두남자의 숨막히는 추격전??? 어디??? 아...짱나~</td>\n",
       "      <td>1</td>\n",
       "    </tr>\n",
       "    <tr>\n",
       "      <th>46040</th>\n",
       "      <td>선비의 자손으로서 아주 복장 터지는 영화!! 황새는 황새다워야 하고 뱃새는 뱃새다워...</td>\n",
       "      <td>1</td>\n",
       "    </tr>\n",
       "    <tr>\n",
       "      <th>46041</th>\n",
       "      <td>감독 집이 어디냐</td>\n",
       "      <td>1</td>\n",
       "    </tr>\n",
       "    <tr>\n",
       "      <th>46042</th>\n",
       "      <td>satc원작 드라마에 먹칠을 한거 같은 영화드라마도 5후반까진 괜찮았으나 인기입어 ...</td>\n",
       "      <td>1</td>\n",
       "    </tr>\n",
       "    <tr>\n",
       "      <th>46043</th>\n",
       "      <td>이게 실화라고 장난하나 18.. 세상에 하나님이 어디 있다고.. 영화도 개독교에 미...</td>\n",
       "      <td>1</td>\n",
       "    </tr>\n",
       "  </tbody>\n",
       "</table>\n",
       "<p>44668 rows × 2 columns</p>\n",
       "</div>"
      ]
     },
     "execution_count": 59,
     "metadata": {},
     "output_type": "execute_result"
    }
   ],
   "execution_count": 59
  },
  {
   "cell_type": "code",
   "id": "0b704ac1",
   "metadata": {
    "ExecuteTime": {
     "end_time": "2024-06-07T11:49:26.788144Z",
     "start_time": "2024-06-07T11:49:26.779510Z"
    }
   },
   "source": [
    "train_df[train_df['label']==2]"
   ],
   "outputs": [
    {
     "data": {
      "text/plain": [
       "                                                    text  label\n",
       "46044                                                 언제      2\n",
       "46045                                                 언제      2\n",
       "46046                                                 언제      2\n",
       "46047                                                 언제      2\n",
       "46048                                                 언제      2\n",
       "...                                                  ...    ...\n",
       "84649  아니 이게 뭔 공포냐,,, 런닝타임도 짧고 나름 평도 좋아서 봤는데 특히 마지막부분...      2\n",
       "84650              힘찬오빤언제나와요?ㅋㅋ왜 예고편엔나왔는데 방송은2주째안나오죠ㅋㅋㅋㅋ      2\n",
       "84651  소수의 의견도 소중한것까진 알겠는데;; 그 분노가 왜 엉뚱한 사람들을 향하는건데;;...      2\n",
       "84652  샤를리또갱스브루는 언제나 그렇듯 매력적이긴 하지만 잠깐 스친듯한 인연이 그렇게 오랜...      2\n",
       "84653  3편이상을안봐도내용이거기서거기네요...정말언제까지질질끌어야할건가요???그리고결말은언...      2\n",
       "\n",
       "[38610 rows x 2 columns]"
      ],
      "text/html": [
       "<div>\n",
       "<style scoped>\n",
       "    .dataframe tbody tr th:only-of-type {\n",
       "        vertical-align: middle;\n",
       "    }\n",
       "\n",
       "    .dataframe tbody tr th {\n",
       "        vertical-align: top;\n",
       "    }\n",
       "\n",
       "    .dataframe thead th {\n",
       "        text-align: right;\n",
       "    }\n",
       "</style>\n",
       "<table border=\"1\" class=\"dataframe\">\n",
       "  <thead>\n",
       "    <tr style=\"text-align: right;\">\n",
       "      <th></th>\n",
       "      <th>text</th>\n",
       "      <th>label</th>\n",
       "    </tr>\n",
       "  </thead>\n",
       "  <tbody>\n",
       "    <tr>\n",
       "      <th>46044</th>\n",
       "      <td>언제</td>\n",
       "      <td>2</td>\n",
       "    </tr>\n",
       "    <tr>\n",
       "      <th>46045</th>\n",
       "      <td>언제</td>\n",
       "      <td>2</td>\n",
       "    </tr>\n",
       "    <tr>\n",
       "      <th>46046</th>\n",
       "      <td>언제</td>\n",
       "      <td>2</td>\n",
       "    </tr>\n",
       "    <tr>\n",
       "      <th>46047</th>\n",
       "      <td>언제</td>\n",
       "      <td>2</td>\n",
       "    </tr>\n",
       "    <tr>\n",
       "      <th>46048</th>\n",
       "      <td>언제</td>\n",
       "      <td>2</td>\n",
       "    </tr>\n",
       "    <tr>\n",
       "      <th>...</th>\n",
       "      <td>...</td>\n",
       "      <td>...</td>\n",
       "    </tr>\n",
       "    <tr>\n",
       "      <th>84649</th>\n",
       "      <td>아니 이게 뭔 공포냐,,, 런닝타임도 짧고 나름 평도 좋아서 봤는데 특히 마지막부분...</td>\n",
       "      <td>2</td>\n",
       "    </tr>\n",
       "    <tr>\n",
       "      <th>84650</th>\n",
       "      <td>힘찬오빤언제나와요?ㅋㅋ왜 예고편엔나왔는데 방송은2주째안나오죠ㅋㅋㅋㅋ</td>\n",
       "      <td>2</td>\n",
       "    </tr>\n",
       "    <tr>\n",
       "      <th>84651</th>\n",
       "      <td>소수의 의견도 소중한것까진 알겠는데;; 그 분노가 왜 엉뚱한 사람들을 향하는건데;;...</td>\n",
       "      <td>2</td>\n",
       "    </tr>\n",
       "    <tr>\n",
       "      <th>84652</th>\n",
       "      <td>샤를리또갱스브루는 언제나 그렇듯 매력적이긴 하지만 잠깐 스친듯한 인연이 그렇게 오랜...</td>\n",
       "      <td>2</td>\n",
       "    </tr>\n",
       "    <tr>\n",
       "      <th>84653</th>\n",
       "      <td>3편이상을안봐도내용이거기서거기네요...정말언제까지질질끌어야할건가요???그리고결말은언...</td>\n",
       "      <td>2</td>\n",
       "    </tr>\n",
       "  </tbody>\n",
       "</table>\n",
       "<p>38610 rows × 2 columns</p>\n",
       "</div>"
      ]
     },
     "execution_count": 60,
     "metadata": {},
     "output_type": "execute_result"
    }
   ],
   "execution_count": 60
  },
  {
   "cell_type": "code",
   "id": "1b93c30a",
   "metadata": {
    "ExecuteTime": {
     "end_time": "2024-06-07T11:49:26.823719Z",
     "start_time": "2024-06-07T11:49:26.813225Z"
    }
   },
   "source": "train_df[train_df['label']==3]",
   "outputs": [
    {
     "data": {
      "text/plain": [
       "                                                    text  label\n",
       "84654                              온라인 교육? 너 학점은행제 하는거야?      3\n",
       "84655                                  나는 4학년인데 17학점 듣는중      3\n",
       "84656                                     왜? 학점이 많이 안좋아?      3\n",
       "84657             그래도 더 열심히 해서 최상 수준의 학점을 받았으면 더 좋았겠다 싶어      3\n",
       "84658                                    고교학점제 어떻게 생각 해?      3\n",
       "...                                                  ...    ...\n",
       "85037  한 학기 동안의 해외 인턴십을 수료한 후 본교에서 학기와 학점을 인정받을 수 있는 ...      3\n",
       "85038                                        126 ~ 140학점      3\n",
       "85039                                 이 영화를 보고 학점이 올랐습니다      3\n",
       "85040            주인공의 얼굴과 무술에 별두개 영화는 차라리 'f학점의 첩보원'을 보자      3\n",
       "85041                                    학점 2.0아래까지 찍어보자      3\n",
       "\n",
       "[388 rows x 2 columns]"
      ],
      "text/html": [
       "<div>\n",
       "<style scoped>\n",
       "    .dataframe tbody tr th:only-of-type {\n",
       "        vertical-align: middle;\n",
       "    }\n",
       "\n",
       "    .dataframe tbody tr th {\n",
       "        vertical-align: top;\n",
       "    }\n",
       "\n",
       "    .dataframe thead th {\n",
       "        text-align: right;\n",
       "    }\n",
       "</style>\n",
       "<table border=\"1\" class=\"dataframe\">\n",
       "  <thead>\n",
       "    <tr style=\"text-align: right;\">\n",
       "      <th></th>\n",
       "      <th>text</th>\n",
       "      <th>label</th>\n",
       "    </tr>\n",
       "  </thead>\n",
       "  <tbody>\n",
       "    <tr>\n",
       "      <th>84654</th>\n",
       "      <td>온라인 교육? 너 학점은행제 하는거야?</td>\n",
       "      <td>3</td>\n",
       "    </tr>\n",
       "    <tr>\n",
       "      <th>84655</th>\n",
       "      <td>나는 4학년인데 17학점 듣는중</td>\n",
       "      <td>3</td>\n",
       "    </tr>\n",
       "    <tr>\n",
       "      <th>84656</th>\n",
       "      <td>왜? 학점이 많이 안좋아?</td>\n",
       "      <td>3</td>\n",
       "    </tr>\n",
       "    <tr>\n",
       "      <th>84657</th>\n",
       "      <td>그래도 더 열심히 해서 최상 수준의 학점을 받았으면 더 좋았겠다 싶어</td>\n",
       "      <td>3</td>\n",
       "    </tr>\n",
       "    <tr>\n",
       "      <th>84658</th>\n",
       "      <td>고교학점제 어떻게 생각 해?</td>\n",
       "      <td>3</td>\n",
       "    </tr>\n",
       "    <tr>\n",
       "      <th>...</th>\n",
       "      <td>...</td>\n",
       "      <td>...</td>\n",
       "    </tr>\n",
       "    <tr>\n",
       "      <th>85037</th>\n",
       "      <td>한 학기 동안의 해외 인턴십을 수료한 후 본교에서 학기와 학점을 인정받을 수 있는 ...</td>\n",
       "      <td>3</td>\n",
       "    </tr>\n",
       "    <tr>\n",
       "      <th>85038</th>\n",
       "      <td>126 ~ 140학점</td>\n",
       "      <td>3</td>\n",
       "    </tr>\n",
       "    <tr>\n",
       "      <th>85039</th>\n",
       "      <td>이 영화를 보고 학점이 올랐습니다</td>\n",
       "      <td>3</td>\n",
       "    </tr>\n",
       "    <tr>\n",
       "      <th>85040</th>\n",
       "      <td>주인공의 얼굴과 무술에 별두개 영화는 차라리 'f학점의 첩보원'을 보자</td>\n",
       "      <td>3</td>\n",
       "    </tr>\n",
       "    <tr>\n",
       "      <th>85041</th>\n",
       "      <td>학점 2.0아래까지 찍어보자</td>\n",
       "      <td>3</td>\n",
       "    </tr>\n",
       "  </tbody>\n",
       "</table>\n",
       "<p>388 rows × 2 columns</p>\n",
       "</div>"
      ]
     },
     "execution_count": 61,
     "metadata": {},
     "output_type": "execute_result"
    }
   ],
   "execution_count": 61
  },
  {
   "cell_type": "code",
   "id": "d53e4bd7",
   "metadata": {
    "ExecuteTime": {
     "end_time": "2024-06-07T11:49:27.046814Z",
     "start_time": "2024-06-07T11:49:27.042432Z"
    }
   },
   "source": [
    "train_df.reset_index(drop=True, inplace=True)"
   ],
   "outputs": [],
   "execution_count": 62
  },
  {
   "cell_type": "code",
   "id": "ec242b4d",
   "metadata": {
    "ExecuteTime": {
     "end_time": "2024-06-07T11:49:27.090052Z",
     "start_time": "2024-06-07T11:49:27.084165Z"
    }
   },
   "source": [
    "train_df.tail()"
   ],
   "outputs": [
    {
     "data": {
      "text/plain": [
       "                                                    text  label\n",
       "85037  한 학기 동안의 해외 인턴십을 수료한 후 본교에서 학기와 학점을 인정받을 수 있는 ...      3\n",
       "85038                                        126 ~ 140학점      3\n",
       "85039                                 이 영화를 보고 학점이 올랐습니다      3\n",
       "85040            주인공의 얼굴과 무술에 별두개 영화는 차라리 'f학점의 첩보원'을 보자      3\n",
       "85041                                    학점 2.0아래까지 찍어보자      3"
      ],
      "text/html": [
       "<div>\n",
       "<style scoped>\n",
       "    .dataframe tbody tr th:only-of-type {\n",
       "        vertical-align: middle;\n",
       "    }\n",
       "\n",
       "    .dataframe tbody tr th {\n",
       "        vertical-align: top;\n",
       "    }\n",
       "\n",
       "    .dataframe thead th {\n",
       "        text-align: right;\n",
       "    }\n",
       "</style>\n",
       "<table border=\"1\" class=\"dataframe\">\n",
       "  <thead>\n",
       "    <tr style=\"text-align: right;\">\n",
       "      <th></th>\n",
       "      <th>text</th>\n",
       "      <th>label</th>\n",
       "    </tr>\n",
       "  </thead>\n",
       "  <tbody>\n",
       "    <tr>\n",
       "      <th>85037</th>\n",
       "      <td>한 학기 동안의 해외 인턴십을 수료한 후 본교에서 학기와 학점을 인정받을 수 있는 ...</td>\n",
       "      <td>3</td>\n",
       "    </tr>\n",
       "    <tr>\n",
       "      <th>85038</th>\n",
       "      <td>126 ~ 140학점</td>\n",
       "      <td>3</td>\n",
       "    </tr>\n",
       "    <tr>\n",
       "      <th>85039</th>\n",
       "      <td>이 영화를 보고 학점이 올랐습니다</td>\n",
       "      <td>3</td>\n",
       "    </tr>\n",
       "    <tr>\n",
       "      <th>85040</th>\n",
       "      <td>주인공의 얼굴과 무술에 별두개 영화는 차라리 'f학점의 첩보원'을 보자</td>\n",
       "      <td>3</td>\n",
       "    </tr>\n",
       "    <tr>\n",
       "      <th>85041</th>\n",
       "      <td>학점 2.0아래까지 찍어보자</td>\n",
       "      <td>3</td>\n",
       "    </tr>\n",
       "  </tbody>\n",
       "</table>\n",
       "</div>"
      ]
     },
     "execution_count": 63,
     "metadata": {},
     "output_type": "execute_result"
    }
   ],
   "execution_count": 63
  },
  {
   "cell_type": "code",
   "id": "d67109b3",
   "metadata": {
    "ExecuteTime": {
     "end_time": "2024-06-07T11:49:27.276540Z",
     "start_time": "2024-06-07T11:49:27.177290Z"
    }
   },
   "source": [
    "train_df.to_csv(\"train_data.csv\", index=False)"
   ],
   "outputs": [],
   "execution_count": 64
  },
  {
   "cell_type": "markdown",
   "id": "1923b672",
   "metadata": {},
   "source": [
    "## 3. 적절한 패딩 길이 구하기"
   ]
  },
  {
   "cell_type": "code",
   "id": "df402d1e",
   "metadata": {
    "ExecuteTime": {
     "end_time": "2024-06-07T11:49:27.402898Z",
     "start_time": "2024-06-07T11:49:27.334515Z"
    }
   },
   "source": [
    "data = pd.read_csv('train_data.csv')"
   ],
   "outputs": [],
   "execution_count": 65
  },
  {
   "cell_type": "code",
   "id": "446033ca",
   "metadata": {
    "ExecuteTime": {
     "end_time": "2024-06-07T11:49:27.427822Z",
     "start_time": "2024-06-07T11:49:27.423700Z"
    }
   },
   "source": [
    "data.shape"
   ],
   "outputs": [
    {
     "data": {
      "text/plain": [
       "(85042, 2)"
      ]
     },
     "execution_count": 66,
     "metadata": {},
     "output_type": "execute_result"
    }
   ],
   "execution_count": 66
  },
  {
   "cell_type": "code",
   "id": "96f4c673",
   "metadata": {
    "ExecuteTime": {
     "end_time": "2024-06-07T11:49:28.623310Z",
     "start_time": "2024-06-07T11:49:27.509021Z"
    }
   },
   "source": [
    "tokenizer = Komoran()"
   ],
   "outputs": [],
   "execution_count": 67
  },
  {
   "cell_type": "code",
   "id": "c3f89ecd",
   "metadata": {
    "ExecuteTime": {
     "end_time": "2024-06-07T11:49:42.847491Z",
     "start_time": "2024-06-07T11:49:28.623310Z"
    }
   },
   "source": [
    "data_tokenized = [[token+\"/\"+POS for token, POS in tokenizer.pos(text_)] for text_ in data['text']]\n",
    "\n",
    "exclusion_tags = [\n",
    "    'JKS', 'JKC', 'JKG', 'JKO', 'JKB', 'JKV', 'JKQ',\n",
    "            'JX', 'JC',\n",
    "            'SF', 'SP', 'SS', 'SE', 'SO',\n",
    "            'EP', 'EF', 'EC', 'ETN', 'ETM',\n",
    "            'XSN', 'XSV', 'XSA'\n",
    "]\n",
    "\n",
    "f = lambda x: x in exclusion_tags\n",
    "\n",
    "data_list = []\n",
    "for i in range(len(data_tokenized)):\n",
    "        temp = []\n",
    "        for j in range(len(data_tokenized[i])):\n",
    "            if f(data_tokenized[i][j].split('/')[1]) is False:\n",
    "                temp.append(data_tokenized[i][j].split('/')[0])\n",
    "        data_list.append(temp)"
   ],
   "outputs": [],
   "execution_count": 68
  },
  {
   "cell_type": "code",
   "id": "8f8f3a69",
   "metadata": {
    "ExecuteTime": {
     "end_time": "2024-06-07T11:49:42.857457Z",
     "start_time": "2024-06-07T11:49:42.849048Z"
    }
   },
   "source": [
    "num_tokens = [len(tokens) for tokens in data_list]\n",
    "num_tokens = np.array(num_tokens)\n",
    "\n",
    "# 평균값, 최댓값, 표준편차\n",
    "print(f\"토큰 길이 평균: {np.mean(num_tokens)}\")\n",
    "print(f\"토큰 길이 최대: {np.max(num_tokens)}\")\n",
    "print(f\"토큰 길이 표준편차: {np.std(num_tokens)}\")"
   ],
   "outputs": [
    {
     "name": "stdout",
     "output_type": "stream",
     "text": [
      "토큰 길이 평균: 6.152465840408269\n",
      "토큰 길이 최대: 69\n",
      "토큰 길이 표준편차: 4.33136465071486\n"
     ]
    }
   ],
   "execution_count": 69
  },
  {
   "cell_type": "code",
   "id": "db301a47",
   "metadata": {
    "ExecuteTime": {
     "end_time": "2024-06-07T11:49:43.003307Z",
     "start_time": "2024-06-07T11:49:42.857457Z"
    }
   },
   "source": [
    "plt.title('all text length')\n",
    "plt.hist(num_tokens, bins=100)\n",
    "plt.xlabel('length of samples')\n",
    "plt.ylabel('number of samples')\n",
    "plt.show()"
   ],
   "outputs": [
    {
     "data": {
      "text/plain": [
       "<Figure size 640x480 with 1 Axes>"
      ],
      "image/png": "[encoded data removed]"
     },
     "metadata": {},
     "output_type": "display_data"
    }
   ],
   "execution_count": 70
  },
  {
   "cell_type": "code",
   "id": "2751e998",
   "metadata": {
    "ExecuteTime": {
     "end_time": "2024-06-07T11:49:43.011731Z",
     "start_time": "2024-06-07T11:49:43.003307Z"
    }
   },
   "source": [
    "select_length = 25\n",
    "\n",
    "def below_threshold_len(max_len, nested_list):\n",
    "    cnt = 0\n",
    "    for s in nested_list:\n",
    "        if(len(s) <= max_len):\n",
    "            cnt = cnt + 1\n",
    "        \n",
    "    print('전체 샘플 중 길이가 %s 이하인 샘플의 비율: %s'%(max_len, (cnt / len(nested_list))))\n",
    "    \n",
    "below_threshold_len(select_length, data_list)"
   ],
   "outputs": [
    {
     "name": "stdout",
     "output_type": "stream",
     "text": [
      "전체 샘플 중 길이가 25 이하인 샘플의 비율: 0.9891347804614191\n"
     ]
    }
   ],
   "execution_count": 71
  },
  {
   "metadata": {
    "ExecuteTime": {
     "end_time": "2024-06-07T11:49:43.014404Z",
     "start_time": "2024-06-07T11:49:43.011731Z"
    }
   },
   "cell_type": "code",
   "source": "",
   "id": "6c615b815f9f9fcf",
   "outputs": [],
   "execution_count": 71
  }
 ],
 "metadata": {
  "kernelspec": {
   "display_name": "Python 3 (ipykernel)",
   "language": "python",
   "name": "python3"
  },
  "language_info": {
   "codemirror_mode": {
    "name": "ipython",
    "version": 3
   },
   "file_extension": ".py",
   "mimetype": "text/x-python",
   "name": "python",
   "nbconvert_exporter": "python",
   "pygments_lexer": "ipython3",
   "version": "3.8.5"
  }
 },
 "nbformat": 4,
 "nbformat_minor": 5
}
