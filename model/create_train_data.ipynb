{
 "cells": [
  {
   "cell_type": "markdown",
   "id": "8ef75773",
   "metadata": {},
   "source": [
    "# 의도 분류 모델 학습 데이터 생성하기"
   ]
  },
  {
   "cell_type": "markdown",
   "id": "e1029818",
   "metadata": {},
   "source": [
    "## 0. Import"
   ]
  },
  {
   "cell_type": "code",
   "id": "a07b3b07",
   "metadata": {
    "ExecuteTime": {
     "end_time": "2024-06-05T03:52:58.687726Z",
     "start_time": "2024-06-05T03:52:58.669467Z"
    }
   },
   "source": [
    "import pandas as pd\n",
    "import numpy as np\n",
    "import matplotlib.pyplot as plt\n",
    "import seaborn as sns\n",
    "from konlpy.tag import Komoran\n",
    "import matplotlib.pyplot as plt"
   ],
   "outputs": [],
   "execution_count": 1
  },
  {
   "cell_type": "markdown",
   "id": "c1622aea",
   "metadata": {},
   "source": [
    "## 1. 데이터 불러오기"
   ]
  },
  {
   "cell_type": "code",
   "id": "78296814",
   "metadata": {
    "ExecuteTime": {
     "end_time": "2024-06-05T03:53:36.111205Z",
     "start_time": "2024-06-05T03:53:34.245012Z"
    }
   },
   "source": [
    "time_expression = pd.read_csv(\"../dataset/trans-dataset/시간표현탐지데이터.csv\")\n",
    "purpose = pd.read_csv(\"../dataset/trans-dataset/용도별목적대화데이터.csv\")\n",
    "topic = pd.read_csv(\"../dataset/trans-dataset/주제별일상대화데이터.csv\")\n",
    "common_sense = pd.read_csv(\"../dataset/trans-dataset/일반상식.csv\")\n",
    "movie_review = pd.read_csv(\"../dataset/trans-dataset/영화리뷰.csv\")\n",
    "# add = pd.read_csv(\"../../변형데이터/추가데이터.csv\")\n",
    "\n",
    "time_expression.dropna(inplace=True)\n",
    "purpose.dropna(inplace=True)\n",
    "topic.dropna(inplace=True)\n",
    "common_sense.dropna(inplace=True)\n",
    "movie_review.dropna(inplace=True)\n",
    "# add.dropna(inplace=True)"
   ],
   "outputs": [],
   "execution_count": 2
  },
  {
   "cell_type": "code",
   "id": "9a032b57",
   "metadata": {
    "ExecuteTime": {
     "end_time": "2024-06-05T03:54:05.385998Z",
     "start_time": "2024-06-05T03:54:05.381679Z"
    }
   },
   "source": [
    "print(f\"time_expression shape => {time_expression.shape}\\n\\\n",
    "purpose shape => {purpose.shape}\\n\\\n",
    "topic shape => {topic.shape}\\n\\\n",
    "common_sense shape => {common_sense.shape}\\n\\\n",
    "movie_review shape => {movie_review.shape}\\n\\\n",
    "\")\n",
    "# add => {add.shape}\")"
   ],
   "outputs": [
    {
     "name": "stdout",
     "output_type": "stream",
     "text": [
      "time_expression shape => (278781, 1)\n",
      "purpose shape => (172442, 1)\n",
      "topic shape => (1445793, 1)\n",
      "common_sense shape => (68538, 3)\n",
      "movie_review shape => (199992, 3)\n",
      "\n"
     ]
    }
   ],
   "execution_count": 3
  },
  {
   "cell_type": "code",
   "id": "e930d8f9",
   "metadata": {
    "scrolled": true,
    "ExecuteTime": {
     "end_time": "2024-06-05T03:54:21.006982Z",
     "start_time": "2024-06-05T03:54:21.001469Z"
    }
   },
   "source": "time_expression.columns",
   "outputs": [
    {
     "data": {
      "text/plain": [
       "Index(['text'], dtype='object')"
      ]
     },
     "execution_count": 4,
     "metadata": {},
     "output_type": "execute_result"
    }
   ],
   "execution_count": 4
  },
  {
   "cell_type": "code",
   "id": "371eea71",
   "metadata": {
    "ExecuteTime": {
     "end_time": "2024-06-05T03:54:21.433544Z",
     "start_time": "2024-06-05T03:54:21.429118Z"
    }
   },
   "source": [
    "purpose.columns"
   ],
   "outputs": [
    {
     "data": {
      "text/plain": [
       "Index(['text'], dtype='object')"
      ]
     },
     "execution_count": 5,
     "metadata": {},
     "output_type": "execute_result"
    }
   ],
   "execution_count": 5
  },
  {
   "cell_type": "code",
   "id": "e9d91947",
   "metadata": {
    "ExecuteTime": {
     "end_time": "2024-06-05T03:54:21.754585Z",
     "start_time": "2024-06-05T03:54:21.749639Z"
    }
   },
   "source": [
    "topic.columns"
   ],
   "outputs": [
    {
     "data": {
      "text/plain": [
       "Index(['text'], dtype='object')"
      ]
     },
     "execution_count": 6,
     "metadata": {},
     "output_type": "execute_result"
    }
   ],
   "execution_count": 6
  },
  {
   "cell_type": "code",
   "id": "16cf0f59",
   "metadata": {
    "ExecuteTime": {
     "end_time": "2024-06-03T04:02:59.254666Z",
     "start_time": "2024-06-03T04:02:59.242516Z"
    }
   },
   "source": [
    "common_sense.columns"
   ],
   "outputs": [
    {
     "data": {
      "text/plain": [
       "Index(['intent', 'query', 'answer'], dtype='object')"
      ]
     },
     "execution_count": 7,
     "metadata": {},
     "output_type": "execute_result"
    }
   ],
   "execution_count": 7
  },
  {
   "metadata": {
    "ExecuteTime": {
     "end_time": "2024-06-05T03:54:30.146123Z",
     "start_time": "2024-06-05T03:54:30.142065Z"
    }
   },
   "cell_type": "code",
   "source": "movie_review.columns",
   "id": "5892095efaf790d",
   "outputs": [
    {
     "data": {
      "text/plain": [
       "Index(['id', 'document', 'label'], dtype='object')"
      ]
     },
     "execution_count": 8,
     "metadata": {},
     "output_type": "execute_result"
    }
   ],
   "execution_count": 8
  },
  {
   "cell_type": "code",
   "id": "76d84076",
   "metadata": {
    "ExecuteTime": {
     "end_time": "2024-06-05T03:54:38.224584Z",
     "start_time": "2024-06-05T03:54:38.221230Z"
    }
   },
   "source": "# add.columns",
   "outputs": [],
   "execution_count": 9
  },
  {
   "cell_type": "code",
   "id": "66dff7cd",
   "metadata": {
    "ExecuteTime": {
     "end_time": "2024-06-05T03:54:55.994188Z",
     "start_time": "2024-06-05T03:54:55.811801Z"
    }
   },
   "source": [
    "# all_data = list(time_expression['text']) + list(purpose['text']) + list(topic['text']) + list(common_sense['query']) \\\n",
    "# + list(common_sense['answer']) + list(add['query'])\n",
    "\n",
    "all_data = list(time_expression['text']) + list(purpose['text']) + list(topic['text']) + list(common_sense['query']) \\\n",
    "+ list(common_sense['answer']) + list(movie_review['document'])"
   ],
   "outputs": [],
   "execution_count": 10
  },
  {
   "cell_type": "code",
   "id": "2e60ebc3",
   "metadata": {
    "ExecuteTime": {
     "end_time": "2024-06-05T03:54:57.859769Z",
     "start_time": "2024-06-05T03:54:57.856040Z"
    }
   },
   "source": "len(all_data)",
   "outputs": [
    {
     "data": {
      "text/plain": [
       "2234084"
      ]
     },
     "execution_count": 11,
     "metadata": {},
     "output_type": "execute_result"
    }
   ],
   "execution_count": 11
  },
  {
   "cell_type": "code",
   "id": "a286016c",
   "metadata": {
    "ExecuteTime": {
     "end_time": "2024-06-05T03:55:07.364682Z",
     "start_time": "2024-06-05T03:55:05.517551Z"
    }
   },
   "source": [
    "# 통합본 생성하고 저장하기\n",
    "total = pd.DataFrame({'text': all_data})\n",
    "total.to_csv(\"../dataset/trans-dataset/통합본데이터.csv\", index=False)"
   ],
   "outputs": [],
   "execution_count": 12
  },
  {
   "cell_type": "markdown",
   "id": "ffb7d227",
   "metadata": {},
   "source": [
    "## 2. 의도 분류 데이터 생성하기"
   ]
  },
  {
   "cell_type": "markdown",
   "id": "8b479de5",
   "metadata": {},
   "source": [
    "0 -> 번호, 1 -> 장소, 2 -> 시간, 3 -> 기타  \n",
    "기타는 추후에 다시 생성 예정"
   ]
  },
  {
   "cell_type": "code",
   "id": "7d087451",
   "metadata": {
    "ExecuteTime": {
     "end_time": "2024-06-05T03:55:53.695576Z",
     "start_time": "2024-06-05T03:55:53.692183Z"
    }
   },
   "source": [
    "professor = []\n",
    "place = []\n",
    "time = []\n",
    "etc = []"
   ],
   "outputs": [],
   "execution_count": 13
  },
  {
   "cell_type": "code",
   "id": "3f01b0da",
   "metadata": {
    "ExecuteTime": {
     "end_time": "2024-06-05T03:58:08.072665Z",
     "start_time": "2024-06-05T03:58:07.715058Z"
    }
   },
   "source": [
    "for i in all_data:\n",
    "    if ('어디' or '장소' or '위치' or '주소') in i: place.append(i)\n",
    "    elif ('교수' or '교수님') in i: professor.append(i)\n",
    "    elif ('시작' or '마감' or '언제' or '기간' or '시간' or '일정' or '날짜' or '일자' or '신청일' or '보고일' or '접수일') in i: time.append(i)\n",
    "    else: etc.append(i)"
   ],
   "outputs": [],
   "execution_count": 33
  },
  {
   "cell_type": "code",
   "id": "5573135e",
   "metadata": {
    "ExecuteTime": {
     "end_time": "2024-06-05T03:58:08.076835Z",
     "start_time": "2024-06-05T03:58:08.073669Z"
    }
   },
   "source": "len(professor)",
   "outputs": [
    {
     "data": {
      "text/plain": [
       "2064"
      ]
     },
     "execution_count": 34,
     "metadata": {},
     "output_type": "execute_result"
    }
   ],
   "execution_count": 34
  },
  {
   "cell_type": "code",
   "id": "fccab236",
   "metadata": {
    "ExecuteTime": {
     "end_time": "2024-06-05T03:58:08.295744Z",
     "start_time": "2024-06-05T03:58:08.290739Z"
    }
   },
   "source": [
    "professor_label = []\n",
    "for _ in range(len(professor)):\n",
    "    professor_label.append(0)\n",
    "len(professor_label)"
   ],
   "outputs": [
    {
     "data": {
      "text/plain": [
       "2064"
      ]
     },
     "execution_count": 35,
     "metadata": {},
     "output_type": "execute_result"
    }
   ],
   "execution_count": 35
  },
  {
   "cell_type": "code",
   "id": "492f141f",
   "metadata": {
    "ExecuteTime": {
     "end_time": "2024-06-05T03:58:08.706205Z",
     "start_time": "2024-06-05T03:58:08.702225Z"
    }
   },
   "source": [
    "len(place)"
   ],
   "outputs": [
    {
     "data": {
      "text/plain": [
       "67002"
      ]
     },
     "execution_count": 36,
     "metadata": {},
     "output_type": "execute_result"
    }
   ],
   "execution_count": 36
  },
  {
   "cell_type": "code",
   "id": "b144fade",
   "metadata": {
    "ExecuteTime": {
     "end_time": "2024-06-05T03:58:08.985192Z",
     "start_time": "2024-06-05T03:58:08.977441Z"
    }
   },
   "source": [
    "place_label = []\n",
    "for _ in range(len(place)):\n",
    "    place_label.append(1)\n",
    "len(place_label)"
   ],
   "outputs": [
    {
     "data": {
      "text/plain": [
       "67002"
      ]
     },
     "execution_count": 37,
     "metadata": {},
     "output_type": "execute_result"
    }
   ],
   "execution_count": 37
  },
  {
   "cell_type": "code",
   "id": "55c0206b",
   "metadata": {
    "ExecuteTime": {
     "end_time": "2024-06-05T03:58:09.290030Z",
     "start_time": "2024-06-05T03:58:09.285320Z"
    }
   },
   "source": [
    "len(time)"
   ],
   "outputs": [
    {
     "data": {
      "text/plain": [
       "20070"
      ]
     },
     "execution_count": 38,
     "metadata": {},
     "output_type": "execute_result"
    }
   ],
   "execution_count": 38
  },
  {
   "cell_type": "code",
   "id": "b50ffe98",
   "metadata": {
    "scrolled": true,
    "ExecuteTime": {
     "end_time": "2024-06-05T03:58:09.554408Z",
     "start_time": "2024-06-05T03:58:09.549526Z"
    }
   },
   "source": [
    "time_label = []\n",
    "for _ in range(len(time)):\n",
    "    time_label.append(2)\n",
    "len(time_label)"
   ],
   "outputs": [
    {
     "data": {
      "text/plain": [
       "20070"
      ]
     },
     "execution_count": 39,
     "metadata": {},
     "output_type": "execute_result"
    }
   ],
   "execution_count": 39
  },
  {
   "cell_type": "code",
   "id": "5ab3141b",
   "metadata": {
    "ExecuteTime": {
     "end_time": "2024-06-05T03:58:09.779324Z",
     "start_time": "2024-06-05T03:58:09.776336Z"
    }
   },
   "source": [
    "#import random\n",
    "#random.seed(42)\n",
    "#etc_sample = random.sample(etc, 20000)"
   ],
   "outputs": [],
   "execution_count": 40
  },
  {
   "cell_type": "code",
   "id": "4c10f994",
   "metadata": {
    "ExecuteTime": {
     "end_time": "2024-06-05T03:58:10.033684Z",
     "start_time": "2024-06-05T03:58:10.030752Z"
    }
   },
   "source": [
    "#etc_sample_label = []\n",
    "#for _ in range(len(etc_sample)):\n",
    "#    etc_sample_label.append(3)\n",
    "#len(etc_sample_label)"
   ],
   "outputs": [],
   "execution_count": 41
  },
  {
   "cell_type": "code",
   "id": "72f5fcef",
   "metadata": {
    "ExecuteTime": {
     "end_time": "2024-06-05T03:58:10.327699Z",
     "start_time": "2024-06-05T03:58:10.306946Z"
    }
   },
   "source": [
    "train_df = pd.DataFrame({'text':professor+place+time,\n",
    "                         'label':professor_label+place_label+time_label})"
   ],
   "outputs": [],
   "execution_count": 42
  },
  {
   "cell_type": "code",
   "id": "70ed7924",
   "metadata": {
    "ExecuteTime": {
     "end_time": "2024-06-05T03:58:11.170251Z",
     "start_time": "2024-06-05T03:58:11.163563Z"
    }
   },
   "source": [
    "train_df.head()"
   ],
   "outputs": [
    {
     "data": {
      "text/plain": [
       "                                       text  label\n",
       "0                             노노 교수들은 힘들다드라      0\n",
       "1                                교수들 엄청 좋아함      0\n",
       "2  교수님이 말씀하시길 에이는 비래 그래서 고로 에이는 에프래 뭔소리냐 키키      0\n",
       "3              교수님이 요즘 자꾸 취직했냐고 물어보셔서 부담이 돼      0\n",
       "4             너 대학원 다닐 때 교수님이 너 별로 안좋아하셨잖아.      0"
      ],
      "text/html": [
       "<div>\n",
       "<style scoped>\n",
       "    .dataframe tbody tr th:only-of-type {\n",
       "        vertical-align: middle;\n",
       "    }\n",
       "\n",
       "    .dataframe tbody tr th {\n",
       "        vertical-align: top;\n",
       "    }\n",
       "\n",
       "    .dataframe thead th {\n",
       "        text-align: right;\n",
       "    }\n",
       "</style>\n",
       "<table border=\"1\" class=\"dataframe\">\n",
       "  <thead>\n",
       "    <tr style=\"text-align: right;\">\n",
       "      <th></th>\n",
       "      <th>text</th>\n",
       "      <th>label</th>\n",
       "    </tr>\n",
       "  </thead>\n",
       "  <tbody>\n",
       "    <tr>\n",
       "      <th>0</th>\n",
       "      <td>노노 교수들은 힘들다드라</td>\n",
       "      <td>0</td>\n",
       "    </tr>\n",
       "    <tr>\n",
       "      <th>1</th>\n",
       "      <td>교수들 엄청 좋아함</td>\n",
       "      <td>0</td>\n",
       "    </tr>\n",
       "    <tr>\n",
       "      <th>2</th>\n",
       "      <td>교수님이 말씀하시길 에이는 비래 그래서 고로 에이는 에프래 뭔소리냐 키키</td>\n",
       "      <td>0</td>\n",
       "    </tr>\n",
       "    <tr>\n",
       "      <th>3</th>\n",
       "      <td>교수님이 요즘 자꾸 취직했냐고 물어보셔서 부담이 돼</td>\n",
       "      <td>0</td>\n",
       "    </tr>\n",
       "    <tr>\n",
       "      <th>4</th>\n",
       "      <td>너 대학원 다닐 때 교수님이 너 별로 안좋아하셨잖아.</td>\n",
       "      <td>0</td>\n",
       "    </tr>\n",
       "  </tbody>\n",
       "</table>\n",
       "</div>"
      ]
     },
     "execution_count": 43,
     "metadata": {},
     "output_type": "execute_result"
    }
   ],
   "execution_count": 43
  },
  {
   "cell_type": "code",
   "id": "6279d601",
   "metadata": {
    "ExecuteTime": {
     "end_time": "2024-06-05T03:58:20.115985Z",
     "start_time": "2024-06-05T03:58:20.110295Z"
    }
   },
   "source": [
    "train_df.tail()"
   ],
   "outputs": [
    {
     "data": {
      "text/plain": [
       "                                                    text  label\n",
       "89131  아놔 로그인 하게 만드는;; 시작할때는 그럴듯하게 광고하더니 뒤로 갈수록 왜 이렇게...      2\n",
       "89132  난 이제 악당이랑 치고 박고 딸을 구하겠구나 싶었는데 끝나더라.. 진짜 허무했음. ...      2\n",
       "89133                                   시작하자마자 멍청한 홍콩경찰들      2\n",
       "89134  ㅋ 우스운영화를보았음..한국공포가 왜이래 한30년전에찍었었나..제대로보여주는것암것도...      2\n",
       "89135  영화가 시작하고 10분이 지났는데 끄고싶다...끝까지본 내가 자랑스럽다....뻔함의...      2"
      ],
      "text/html": [
       "<div>\n",
       "<style scoped>\n",
       "    .dataframe tbody tr th:only-of-type {\n",
       "        vertical-align: middle;\n",
       "    }\n",
       "\n",
       "    .dataframe tbody tr th {\n",
       "        vertical-align: top;\n",
       "    }\n",
       "\n",
       "    .dataframe thead th {\n",
       "        text-align: right;\n",
       "    }\n",
       "</style>\n",
       "<table border=\"1\" class=\"dataframe\">\n",
       "  <thead>\n",
       "    <tr style=\"text-align: right;\">\n",
       "      <th></th>\n",
       "      <th>text</th>\n",
       "      <th>label</th>\n",
       "    </tr>\n",
       "  </thead>\n",
       "  <tbody>\n",
       "    <tr>\n",
       "      <th>89131</th>\n",
       "      <td>아놔 로그인 하게 만드는;; 시작할때는 그럴듯하게 광고하더니 뒤로 갈수록 왜 이렇게...</td>\n",
       "      <td>2</td>\n",
       "    </tr>\n",
       "    <tr>\n",
       "      <th>89132</th>\n",
       "      <td>난 이제 악당이랑 치고 박고 딸을 구하겠구나 싶었는데 끝나더라.. 진짜 허무했음. ...</td>\n",
       "      <td>2</td>\n",
       "    </tr>\n",
       "    <tr>\n",
       "      <th>89133</th>\n",
       "      <td>시작하자마자 멍청한 홍콩경찰들</td>\n",
       "      <td>2</td>\n",
       "    </tr>\n",
       "    <tr>\n",
       "      <th>89134</th>\n",
       "      <td>ㅋ 우스운영화를보았음..한국공포가 왜이래 한30년전에찍었었나..제대로보여주는것암것도...</td>\n",
       "      <td>2</td>\n",
       "    </tr>\n",
       "    <tr>\n",
       "      <th>89135</th>\n",
       "      <td>영화가 시작하고 10분이 지났는데 끄고싶다...끝까지본 내가 자랑스럽다....뻔함의...</td>\n",
       "      <td>2</td>\n",
       "    </tr>\n",
       "  </tbody>\n",
       "</table>\n",
       "</div>"
      ]
     },
     "execution_count": 44,
     "metadata": {},
     "output_type": "execute_result"
    }
   ],
   "execution_count": 44
  },
  {
   "cell_type": "code",
   "id": "7911d678",
   "metadata": {
    "ExecuteTime": {
     "end_time": "2024-06-05T03:58:30.577174Z",
     "start_time": "2024-06-05T03:58:30.570963Z"
    }
   },
   "source": [
    "train_df[train_df['label']==0]"
   ],
   "outputs": [
    {
     "data": {
      "text/plain": [
       "                                                   text  label\n",
       "0                                         노노 교수들은 힘들다드라      0\n",
       "1                                            교수들 엄청 좋아함      0\n",
       "2              교수님이 말씀하시길 에이는 비래 그래서 고로 에이는 에프래 뭔소리냐 키키      0\n",
       "3                          교수님이 요즘 자꾸 취직했냐고 물어보셔서 부담이 돼      0\n",
       "4                         너 대학원 다닐 때 교수님이 너 별로 안좋아하셨잖아.      0\n",
       "...                                                 ...    ...\n",
       "2059  고해성사는 가까운 동네 성당에 가서 하세요. 돈들여 페루까지 가지 말고... 겉 멋...      0\n",
       "2060  추리에 긴장감도 없고 연기 몰입도도 없고..교수랑 조교만 없으면....혹시나 해서 ...      0\n",
       "2061  친절하지도 않고, 방법론에 대한 연구도 없이 그냥 한국영화 역사만 나열했다. 이게 ...      0\n",
       "2062  어처구니가 없는게 아니 재판에 불만있다고해서 석궁들고 판사에게 찾아간거 자체가 잘못...      0\n",
       "2063         제인오스틴이라지만 너무 지루했던 상,하편...비슷한결말...스네이프교수님;;      0\n",
       "\n",
       "[2064 rows x 2 columns]"
      ],
      "text/html": [
       "<div>\n",
       "<style scoped>\n",
       "    .dataframe tbody tr th:only-of-type {\n",
       "        vertical-align: middle;\n",
       "    }\n",
       "\n",
       "    .dataframe tbody tr th {\n",
       "        vertical-align: top;\n",
       "    }\n",
       "\n",
       "    .dataframe thead th {\n",
       "        text-align: right;\n",
       "    }\n",
       "</style>\n",
       "<table border=\"1\" class=\"dataframe\">\n",
       "  <thead>\n",
       "    <tr style=\"text-align: right;\">\n",
       "      <th></th>\n",
       "      <th>text</th>\n",
       "      <th>label</th>\n",
       "    </tr>\n",
       "  </thead>\n",
       "  <tbody>\n",
       "    <tr>\n",
       "      <th>0</th>\n",
       "      <td>노노 교수들은 힘들다드라</td>\n",
       "      <td>0</td>\n",
       "    </tr>\n",
       "    <tr>\n",
       "      <th>1</th>\n",
       "      <td>교수들 엄청 좋아함</td>\n",
       "      <td>0</td>\n",
       "    </tr>\n",
       "    <tr>\n",
       "      <th>2</th>\n",
       "      <td>교수님이 말씀하시길 에이는 비래 그래서 고로 에이는 에프래 뭔소리냐 키키</td>\n",
       "      <td>0</td>\n",
       "    </tr>\n",
       "    <tr>\n",
       "      <th>3</th>\n",
       "      <td>교수님이 요즘 자꾸 취직했냐고 물어보셔서 부담이 돼</td>\n",
       "      <td>0</td>\n",
       "    </tr>\n",
       "    <tr>\n",
       "      <th>4</th>\n",
       "      <td>너 대학원 다닐 때 교수님이 너 별로 안좋아하셨잖아.</td>\n",
       "      <td>0</td>\n",
       "    </tr>\n",
       "    <tr>\n",
       "      <th>...</th>\n",
       "      <td>...</td>\n",
       "      <td>...</td>\n",
       "    </tr>\n",
       "    <tr>\n",
       "      <th>2059</th>\n",
       "      <td>고해성사는 가까운 동네 성당에 가서 하세요. 돈들여 페루까지 가지 말고... 겉 멋...</td>\n",
       "      <td>0</td>\n",
       "    </tr>\n",
       "    <tr>\n",
       "      <th>2060</th>\n",
       "      <td>추리에 긴장감도 없고 연기 몰입도도 없고..교수랑 조교만 없으면....혹시나 해서 ...</td>\n",
       "      <td>0</td>\n",
       "    </tr>\n",
       "    <tr>\n",
       "      <th>2061</th>\n",
       "      <td>친절하지도 않고, 방법론에 대한 연구도 없이 그냥 한국영화 역사만 나열했다. 이게 ...</td>\n",
       "      <td>0</td>\n",
       "    </tr>\n",
       "    <tr>\n",
       "      <th>2062</th>\n",
       "      <td>어처구니가 없는게 아니 재판에 불만있다고해서 석궁들고 판사에게 찾아간거 자체가 잘못...</td>\n",
       "      <td>0</td>\n",
       "    </tr>\n",
       "    <tr>\n",
       "      <th>2063</th>\n",
       "      <td>제인오스틴이라지만 너무 지루했던 상,하편...비슷한결말...스네이프교수님;;</td>\n",
       "      <td>0</td>\n",
       "    </tr>\n",
       "  </tbody>\n",
       "</table>\n",
       "<p>2064 rows × 2 columns</p>\n",
       "</div>"
      ]
     },
     "execution_count": 45,
     "metadata": {},
     "output_type": "execute_result"
    }
   ],
   "execution_count": 45
  },
  {
   "cell_type": "code",
   "id": "d4dd731d",
   "metadata": {
    "ExecuteTime": {
     "end_time": "2024-06-05T03:58:35.279166Z",
     "start_time": "2024-06-05T03:58:35.270227Z"
    }
   },
   "source": [
    "train_df[train_df['label']==1]"
   ],
   "outputs": [
    {
     "data": {
      "text/plain": [
       "                                                    text  label\n",
       "2064                           그 스탬프를 모으면요 어디서 어떻게 사용하나요      1\n",
       "2065                                      네 어디서 전화 주신건가요      1\n",
       "2066                    어디에서나 빛나는 주얼리 브랜드 #@소속# 고객센터 입니다      1\n",
       "2067                                  이벤트 당첨 확인은 어디서 하나요      1\n",
       "2068                                    아 어디서 볼 수 있는 건가요      1\n",
       "...                                                  ...    ...\n",
       "69061                     두남자의 숨막히는 추격전??? 어디??? 아...짱나~      1\n",
       "69062  선비의 자손으로서 아주 복장 터지는 영화!! 황새는 황새다워야 하고 뱃새는 뱃새다워...      1\n",
       "69063                                          감독 집이 어디냐      1\n",
       "69064  satc원작 드라마에 먹칠을 한거 같은 영화드라마도 5후반까진 괜찮았으나 인기입어 ...      1\n",
       "69065  이게 실화라고 장난하나 18.. 세상에 하나님이 어디 있다고.. 영화도 개독교에 미...      1\n",
       "\n",
       "[67002 rows x 2 columns]"
      ],
      "text/html": [
       "<div>\n",
       "<style scoped>\n",
       "    .dataframe tbody tr th:only-of-type {\n",
       "        vertical-align: middle;\n",
       "    }\n",
       "\n",
       "    .dataframe tbody tr th {\n",
       "        vertical-align: top;\n",
       "    }\n",
       "\n",
       "    .dataframe thead th {\n",
       "        text-align: right;\n",
       "    }\n",
       "</style>\n",
       "<table border=\"1\" class=\"dataframe\">\n",
       "  <thead>\n",
       "    <tr style=\"text-align: right;\">\n",
       "      <th></th>\n",
       "      <th>text</th>\n",
       "      <th>label</th>\n",
       "    </tr>\n",
       "  </thead>\n",
       "  <tbody>\n",
       "    <tr>\n",
       "      <th>2064</th>\n",
       "      <td>그 스탬프를 모으면요 어디서 어떻게 사용하나요</td>\n",
       "      <td>1</td>\n",
       "    </tr>\n",
       "    <tr>\n",
       "      <th>2065</th>\n",
       "      <td>네 어디서 전화 주신건가요</td>\n",
       "      <td>1</td>\n",
       "    </tr>\n",
       "    <tr>\n",
       "      <th>2066</th>\n",
       "      <td>어디에서나 빛나는 주얼리 브랜드 #@소속# 고객센터 입니다</td>\n",
       "      <td>1</td>\n",
       "    </tr>\n",
       "    <tr>\n",
       "      <th>2067</th>\n",
       "      <td>이벤트 당첨 확인은 어디서 하나요</td>\n",
       "      <td>1</td>\n",
       "    </tr>\n",
       "    <tr>\n",
       "      <th>2068</th>\n",
       "      <td>아 어디서 볼 수 있는 건가요</td>\n",
       "      <td>1</td>\n",
       "    </tr>\n",
       "    <tr>\n",
       "      <th>...</th>\n",
       "      <td>...</td>\n",
       "      <td>...</td>\n",
       "    </tr>\n",
       "    <tr>\n",
       "      <th>69061</th>\n",
       "      <td>두남자의 숨막히는 추격전??? 어디??? 아...짱나~</td>\n",
       "      <td>1</td>\n",
       "    </tr>\n",
       "    <tr>\n",
       "      <th>69062</th>\n",
       "      <td>선비의 자손으로서 아주 복장 터지는 영화!! 황새는 황새다워야 하고 뱃새는 뱃새다워...</td>\n",
       "      <td>1</td>\n",
       "    </tr>\n",
       "    <tr>\n",
       "      <th>69063</th>\n",
       "      <td>감독 집이 어디냐</td>\n",
       "      <td>1</td>\n",
       "    </tr>\n",
       "    <tr>\n",
       "      <th>69064</th>\n",
       "      <td>satc원작 드라마에 먹칠을 한거 같은 영화드라마도 5후반까진 괜찮았으나 인기입어 ...</td>\n",
       "      <td>1</td>\n",
       "    </tr>\n",
       "    <tr>\n",
       "      <th>69065</th>\n",
       "      <td>이게 실화라고 장난하나 18.. 세상에 하나님이 어디 있다고.. 영화도 개독교에 미...</td>\n",
       "      <td>1</td>\n",
       "    </tr>\n",
       "  </tbody>\n",
       "</table>\n",
       "<p>67002 rows × 2 columns</p>\n",
       "</div>"
      ]
     },
     "execution_count": 46,
     "metadata": {},
     "output_type": "execute_result"
    }
   ],
   "execution_count": 46
  },
  {
   "cell_type": "code",
   "id": "0b704ac1",
   "metadata": {
    "ExecuteTime": {
     "end_time": "2024-06-05T03:58:38.275229Z",
     "start_time": "2024-06-05T03:58:38.268223Z"
    }
   },
   "source": [
    "train_df[train_df['label']==2]"
   ],
   "outputs": [
    {
     "data": {
      "text/plain": [
       "                                                    text  label\n",
       "69066                                                시작일      2\n",
       "69067                                              연애 시작      2\n",
       "69068                                                 시작      2\n",
       "69069                                                 시작      2\n",
       "69070                                                 시작      2\n",
       "...                                                  ...    ...\n",
       "89131  아놔 로그인 하게 만드는;; 시작할때는 그럴듯하게 광고하더니 뒤로 갈수록 왜 이렇게...      2\n",
       "89132  난 이제 악당이랑 치고 박고 딸을 구하겠구나 싶었는데 끝나더라.. 진짜 허무했음. ...      2\n",
       "89133                                   시작하자마자 멍청한 홍콩경찰들      2\n",
       "89134  ㅋ 우스운영화를보았음..한국공포가 왜이래 한30년전에찍었었나..제대로보여주는것암것도...      2\n",
       "89135  영화가 시작하고 10분이 지났는데 끄고싶다...끝까지본 내가 자랑스럽다....뻔함의...      2\n",
       "\n",
       "[20070 rows x 2 columns]"
      ],
      "text/html": [
       "<div>\n",
       "<style scoped>\n",
       "    .dataframe tbody tr th:only-of-type {\n",
       "        vertical-align: middle;\n",
       "    }\n",
       "\n",
       "    .dataframe tbody tr th {\n",
       "        vertical-align: top;\n",
       "    }\n",
       "\n",
       "    .dataframe thead th {\n",
       "        text-align: right;\n",
       "    }\n",
       "</style>\n",
       "<table border=\"1\" class=\"dataframe\">\n",
       "  <thead>\n",
       "    <tr style=\"text-align: right;\">\n",
       "      <th></th>\n",
       "      <th>text</th>\n",
       "      <th>label</th>\n",
       "    </tr>\n",
       "  </thead>\n",
       "  <tbody>\n",
       "    <tr>\n",
       "      <th>69066</th>\n",
       "      <td>시작일</td>\n",
       "      <td>2</td>\n",
       "    </tr>\n",
       "    <tr>\n",
       "      <th>69067</th>\n",
       "      <td>연애 시작</td>\n",
       "      <td>2</td>\n",
       "    </tr>\n",
       "    <tr>\n",
       "      <th>69068</th>\n",
       "      <td>시작</td>\n",
       "      <td>2</td>\n",
       "    </tr>\n",
       "    <tr>\n",
       "      <th>69069</th>\n",
       "      <td>시작</td>\n",
       "      <td>2</td>\n",
       "    </tr>\n",
       "    <tr>\n",
       "      <th>69070</th>\n",
       "      <td>시작</td>\n",
       "      <td>2</td>\n",
       "    </tr>\n",
       "    <tr>\n",
       "      <th>...</th>\n",
       "      <td>...</td>\n",
       "      <td>...</td>\n",
       "    </tr>\n",
       "    <tr>\n",
       "      <th>89131</th>\n",
       "      <td>아놔 로그인 하게 만드는;; 시작할때는 그럴듯하게 광고하더니 뒤로 갈수록 왜 이렇게...</td>\n",
       "      <td>2</td>\n",
       "    </tr>\n",
       "    <tr>\n",
       "      <th>89132</th>\n",
       "      <td>난 이제 악당이랑 치고 박고 딸을 구하겠구나 싶었는데 끝나더라.. 진짜 허무했음. ...</td>\n",
       "      <td>2</td>\n",
       "    </tr>\n",
       "    <tr>\n",
       "      <th>89133</th>\n",
       "      <td>시작하자마자 멍청한 홍콩경찰들</td>\n",
       "      <td>2</td>\n",
       "    </tr>\n",
       "    <tr>\n",
       "      <th>89134</th>\n",
       "      <td>ㅋ 우스운영화를보았음..한국공포가 왜이래 한30년전에찍었었나..제대로보여주는것암것도...</td>\n",
       "      <td>2</td>\n",
       "    </tr>\n",
       "    <tr>\n",
       "      <th>89135</th>\n",
       "      <td>영화가 시작하고 10분이 지났는데 끄고싶다...끝까지본 내가 자랑스럽다....뻔함의...</td>\n",
       "      <td>2</td>\n",
       "    </tr>\n",
       "  </tbody>\n",
       "</table>\n",
       "<p>20070 rows × 2 columns</p>\n",
       "</div>"
      ]
     },
     "execution_count": 47,
     "metadata": {},
     "output_type": "execute_result"
    }
   ],
   "execution_count": 47
  },
  {
   "cell_type": "code",
   "id": "1b93c30a",
   "metadata": {
    "ExecuteTime": {
     "end_time": "2024-06-05T03:58:40.138199Z",
     "start_time": "2024-06-05T03:58:40.135841Z"
    }
   },
   "source": [
    "#train_df[train_df['label']==3]"
   ],
   "outputs": [],
   "execution_count": 48
  },
  {
   "cell_type": "code",
   "id": "d53e4bd7",
   "metadata": {
    "ExecuteTime": {
     "end_time": "2024-06-05T03:58:40.358634Z",
     "start_time": "2024-06-05T03:58:40.355880Z"
    }
   },
   "source": [
    "train_df.reset_index(drop=True, inplace=True)"
   ],
   "outputs": [],
   "execution_count": 49
  },
  {
   "cell_type": "code",
   "id": "ec242b4d",
   "metadata": {
    "ExecuteTime": {
     "end_time": "2024-06-05T03:58:40.921399Z",
     "start_time": "2024-06-05T03:58:40.915689Z"
    }
   },
   "source": [
    "train_df.tail()"
   ],
   "outputs": [
    {
     "data": {
      "text/plain": [
       "                                                    text  label\n",
       "89131  아놔 로그인 하게 만드는;; 시작할때는 그럴듯하게 광고하더니 뒤로 갈수록 왜 이렇게...      2\n",
       "89132  난 이제 악당이랑 치고 박고 딸을 구하겠구나 싶었는데 끝나더라.. 진짜 허무했음. ...      2\n",
       "89133                                   시작하자마자 멍청한 홍콩경찰들      2\n",
       "89134  ㅋ 우스운영화를보았음..한국공포가 왜이래 한30년전에찍었었나..제대로보여주는것암것도...      2\n",
       "89135  영화가 시작하고 10분이 지났는데 끄고싶다...끝까지본 내가 자랑스럽다....뻔함의...      2"
      ],
      "text/html": [
       "<div>\n",
       "<style scoped>\n",
       "    .dataframe tbody tr th:only-of-type {\n",
       "        vertical-align: middle;\n",
       "    }\n",
       "\n",
       "    .dataframe tbody tr th {\n",
       "        vertical-align: top;\n",
       "    }\n",
       "\n",
       "    .dataframe thead th {\n",
       "        text-align: right;\n",
       "    }\n",
       "</style>\n",
       "<table border=\"1\" class=\"dataframe\">\n",
       "  <thead>\n",
       "    <tr style=\"text-align: right;\">\n",
       "      <th></th>\n",
       "      <th>text</th>\n",
       "      <th>label</th>\n",
       "    </tr>\n",
       "  </thead>\n",
       "  <tbody>\n",
       "    <tr>\n",
       "      <th>89131</th>\n",
       "      <td>아놔 로그인 하게 만드는;; 시작할때는 그럴듯하게 광고하더니 뒤로 갈수록 왜 이렇게...</td>\n",
       "      <td>2</td>\n",
       "    </tr>\n",
       "    <tr>\n",
       "      <th>89132</th>\n",
       "      <td>난 이제 악당이랑 치고 박고 딸을 구하겠구나 싶었는데 끝나더라.. 진짜 허무했음. ...</td>\n",
       "      <td>2</td>\n",
       "    </tr>\n",
       "    <tr>\n",
       "      <th>89133</th>\n",
       "      <td>시작하자마자 멍청한 홍콩경찰들</td>\n",
       "      <td>2</td>\n",
       "    </tr>\n",
       "    <tr>\n",
       "      <th>89134</th>\n",
       "      <td>ㅋ 우스운영화를보았음..한국공포가 왜이래 한30년전에찍었었나..제대로보여주는것암것도...</td>\n",
       "      <td>2</td>\n",
       "    </tr>\n",
       "    <tr>\n",
       "      <th>89135</th>\n",
       "      <td>영화가 시작하고 10분이 지났는데 끄고싶다...끝까지본 내가 자랑스럽다....뻔함의...</td>\n",
       "      <td>2</td>\n",
       "    </tr>\n",
       "  </tbody>\n",
       "</table>\n",
       "</div>"
      ]
     },
     "execution_count": 50,
     "metadata": {},
     "output_type": "execute_result"
    }
   ],
   "execution_count": 50
  },
  {
   "cell_type": "code",
   "id": "d67109b3",
   "metadata": {
    "ExecuteTime": {
     "end_time": "2024-06-05T03:58:51.939321Z",
     "start_time": "2024-06-05T03:58:51.838111Z"
    }
   },
   "source": [
    "train_df.to_csv(\"train_data.csv\", index=False)"
   ],
   "outputs": [],
   "execution_count": 51
  },
  {
   "cell_type": "markdown",
   "id": "1923b672",
   "metadata": {},
   "source": [
    "## 3. 적절한 패딩 길이 구하기"
   ]
  },
  {
   "cell_type": "code",
   "id": "df402d1e",
   "metadata": {
    "ExecuteTime": {
     "end_time": "2024-06-05T03:58:54.931150Z",
     "start_time": "2024-06-05T03:58:54.861833Z"
    }
   },
   "source": [
    "data = pd.read_csv('train_data.csv')"
   ],
   "outputs": [],
   "execution_count": 52
  },
  {
   "cell_type": "code",
   "id": "446033ca",
   "metadata": {
    "ExecuteTime": {
     "end_time": "2024-06-05T03:58:55.647153Z",
     "start_time": "2024-06-05T03:58:55.643671Z"
    }
   },
   "source": [
    "data.shape"
   ],
   "outputs": [
    {
     "data": {
      "text/plain": [
       "(89136, 2)"
      ]
     },
     "execution_count": 53,
     "metadata": {},
     "output_type": "execute_result"
    }
   ],
   "execution_count": 53
  },
  {
   "cell_type": "code",
   "id": "96f4c673",
   "metadata": {
    "ExecuteTime": {
     "end_time": "2024-06-05T03:58:58.618763Z",
     "start_time": "2024-06-05T03:58:56.474410Z"
    }
   },
   "source": [
    "tokenizer = Komoran()"
   ],
   "outputs": [],
   "execution_count": 54
  },
  {
   "cell_type": "code",
   "id": "c3f89ecd",
   "metadata": {
    "ExecuteTime": {
     "end_time": "2024-06-05T03:59:20.302401Z",
     "start_time": "2024-06-05T03:58:59.357832Z"
    }
   },
   "source": [
    "data_tokenized = [[token+\"/\"+POS for token, POS in tokenizer.pos(text_)] for text_ in data['text']]\n",
    "\n",
    "exclusion_tags = [\n",
    "    'JKS', 'JKC', 'JKG', 'JKO', 'JKB', 'JKV', 'JKQ',\n",
    "            'JX', 'JC',\n",
    "            'SF', 'SP', 'SS', 'SE', 'SO',\n",
    "            'EP', 'EF', 'EC', 'ETN', 'ETM',\n",
    "            'XSN', 'XSV', 'XSA'\n",
    "]\n",
    "\n",
    "f = lambda x: x in exclusion_tags\n",
    "\n",
    "data_list = []\n",
    "for i in range(len(data_tokenized)):\n",
    "        temp = []\n",
    "        for j in range(len(data_tokenized[i])):\n",
    "            if f(data_tokenized[i][j].split('/')[1]) is False:\n",
    "                temp.append(data_tokenized[i][j].split('/')[0])\n",
    "        data_list.append(temp)"
   ],
   "outputs": [],
   "execution_count": 55
  },
  {
   "cell_type": "code",
   "id": "8f8f3a69",
   "metadata": {
    "ExecuteTime": {
     "end_time": "2024-06-05T03:59:22.110715Z",
     "start_time": "2024-06-05T03:59:22.101149Z"
    }
   },
   "source": [
    "num_tokens = [len(tokens) for tokens in data_list]\n",
    "num_tokens = np.array(num_tokens)\n",
    "\n",
    "# 평균값, 최댓값, 표준편차\n",
    "print(f\"토큰 길이 평균: {np.mean(num_tokens)}\")\n",
    "print(f\"토큰 길이 최대: {np.max(num_tokens)}\")\n",
    "print(f\"토큰 길이 표준편차: {np.std(num_tokens)}\")"
   ],
   "outputs": [
    {
     "name": "stdout",
     "output_type": "stream",
     "text": [
      "토큰 길이 평균: 6.976507808292945\n",
      "토큰 길이 최대: 69\n",
      "토큰 길이 표준편차: 5.245454742092352\n"
     ]
    }
   ],
   "execution_count": 56
  },
  {
   "cell_type": "code",
   "id": "db301a47",
   "metadata": {
    "ExecuteTime": {
     "end_time": "2024-06-05T03:59:25.664420Z",
     "start_time": "2024-06-05T03:59:24.614551Z"
    }
   },
   "source": [
    "plt.title('all text length')\n",
    "plt.hist(num_tokens, bins=100)\n",
    "plt.xlabel('length of samples')\n",
    "plt.ylabel('number of samples')\n",
    "plt.show()"
   ],
   "outputs": [
    {
     "data": {
      "text/plain": [
       "<Figure size 640x480 with 1 Axes>"
      ],
      "image/png": "[encoded data removed]"
     },
     "metadata": {},
     "output_type": "display_data"
    }
   ],
   "execution_count": 57
  },
  {
   "cell_type": "code",
   "id": "2751e998",
   "metadata": {
    "ExecuteTime": {
     "end_time": "2024-06-05T03:59:30.810747Z",
     "start_time": "2024-06-05T03:59:30.803912Z"
    }
   },
   "source": [
    "select_length = 25\n",
    "\n",
    "def below_threshold_len(max_len, nested_list):\n",
    "    cnt = 0\n",
    "    for s in nested_list:\n",
    "        if(len(s) <= max_len):\n",
    "            cnt = cnt + 1\n",
    "        \n",
    "    print('전체 샘플 중 길이가 %s 이하인 샘플의 비율: %s'%(max_len, (cnt / len(nested_list))))\n",
    "    \n",
    "below_threshold_len(select_length, data_list)"
   ],
   "outputs": [
    {
     "name": "stdout",
     "output_type": "stream",
     "text": [
      "전체 샘플 중 길이가 25 이하인 샘플의 비율: 0.9803109854604201\n"
     ]
    }
   ],
   "execution_count": 58
  }
 ],
 "metadata": {
  "kernelspec": {
   "display_name": "Python 3 (ipykernel)",
   "language": "python",
   "name": "python3"
  },
  "language_info": {
   "codemirror_mode": {
    "name": "ipython",
    "version": 3
   },
   "file_extension": ".py",
   "mimetype": "text/x-python",
   "name": "python",
   "nbconvert_exporter": "python",
   "pygments_lexer": "ipython3",
   "version": "3.8.5"
  }
 },
 "nbformat": 4,
 "nbformat_minor": 5
}
