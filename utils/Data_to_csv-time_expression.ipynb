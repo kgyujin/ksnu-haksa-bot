{
 "cells": [
  {
   "cell_type": "code",
   "execution_count": 2,
   "id": "b82579b0-4f23-40af-8019-80dd10caf98c",
   "metadata": {},
   "outputs": [],
   "source": [
    "import os\n",
    "import json\n",
    "import pandas as pd"
   ]
  },
  {
   "cell_type": "code",
   "execution_count": 3,
   "id": "0116dcb5-918e-4204-9bfa-710846e97591",
   "metadata": {},
   "outputs": [],
   "source": [
    "def counting(path):\n",
    "    cnt = 0\n",
    "    data_dir = path\n",
    "\n",
    "    for path in os.listdir(data_dir):\n",
    "        if os.path.isfile(os.path.join(data_dir, path)):\n",
    "            cnt += 1\n",
    "\n",
    "    print(f'데이터 개수 = {cnt}')\n",
    "    return cnt"
   ]
  },
  {
   "cell_type": "markdown",
   "id": "448d978c-1685-4ef6-b9ea-f75a5004a914",
   "metadata": {},
   "source": [
    "# csv 변환 - 시간 표현 탐지 데이터"
   ]
  },
  {
   "cell_type": "code",
   "execution_count": 4,
   "id": "e92cd905-9c17-4527-af6d-40f2e0f3bb5b",
   "metadata": {},
   "outputs": [],
   "source": [
    "target_path = \"dataset/init-dataset/시간 표현 탐지 데이터/\""
   ]
  },
  {
   "cell_type": "code",
   "execution_count": 5,
   "id": "47aae5ff-efa6-425b-806b-71fa07fd5202",
   "metadata": {},
   "outputs": [],
   "source": [
    "target_path_list = os.listdir(target_path)"
   ]
  },
  {
   "cell_type": "code",
   "execution_count": 6,
   "id": "60223ad3-7860-44c0-a9e3-70fb01aef1aa",
   "metadata": {},
   "outputs": [
    {
     "data": {
      "text/plain": [
       "['TL_뉴스_경제',\n",
       " 'TL_뉴스_사회',\n",
       " 'TL_대화_기타',\n",
       " 'TL_대화_여행',\n",
       " 'TL_대화_연애',\n",
       " 'TL_대화_진로',\n",
       " 'TL_대화_취미',\n",
       " 'TL_역사']"
      ]
     },
     "execution_count": 6,
     "metadata": {},
     "output_type": "execute_result"
    }
   ],
   "source": [
    "target_path_list"
   ]
  },
  {
   "cell_type": "code",
   "execution_count": 7,
   "id": "5a7da218-191f-411b-bcd4-f5731b18dcce",
   "metadata": {},
   "outputs": [
    {
     "name": "stdout",
     "output_type": "stream",
     "text": [
      "데이터 개수 = 5760\n",
      "데이터 개수 = 6461\n",
      "데이터 개수 = 3605\n",
      "데이터 개수 = 3581\n",
      "데이터 개수 = 3989\n",
      "데이터 개수 = 3769\n",
      "데이터 개수 = 4257\n",
      "데이터 개수 = 4093\n",
      "총 데이터 개수 = 35515\n"
     ]
    }
   ],
   "source": [
    "total_data = 0\n",
    "for i in range(len(target_path_list)):\n",
    "    cnt = counting(target_path+target_path_list[i])\n",
    "    total_data += cnt\n",
    "print(f'총 데이터 개수 = {total_data}')"
   ]
  },
  {
   "cell_type": "code",
   "execution_count": 11,
   "id": "25d664d7-2016-4943-9b6e-343c1a087e94",
   "metadata": {},
   "outputs": [],
   "source": [
    "time_expression = []\n",
    "for i in range(len(target_path_list)):\n",
    "    files = os.listdir(target_path + target_path_list[i])\n",
    "    for k in range(len(files)):\n",
    "        final_path = os.path.join(target_path, target_path_list[i], files[k])\n",
    "        try:\n",
    "            with open(final_path, encoding=\"UTF-8\") as target_file:\n",
    "                target_data = json.load(target_file)\n",
    "                if 'utterances' in target_data:\n",
    "                    for utterance in target_data['utterances']:\n",
    "                        if 'timex3' in utterance:\n",
    "                            for timex in utterance['timex3']:\n",
    "                                time_expression.append(timex['text'])\n",
    "                elif 'sentences' in target_data:\n",
    "                    for sentence in target_data['sentences']:\n",
    "                        if 'timex3' in sentence:\n",
    "                            for timex in sentence['timex3']:\n",
    "                                time_expression.append(timex['text'])\n",
    "        except Exception as e:\n",
    "            print(f\"error! {final_path}, {str(e)}\")"
   ]
  },
  {
   "cell_type": "code",
   "execution_count": 12,
   "id": "ad5a929a-7232-4928-98af-ad9fd17e1b4d",
   "metadata": {},
   "outputs": [
    {
     "data": {
      "text/plain": [
       "278781"
      ]
     },
     "execution_count": 12,
     "metadata": {},
     "output_type": "execute_result"
    }
   ],
   "source": [
    "len(time_expression)"
   ]
  },
  {
   "cell_type": "code",
   "execution_count": 16,
   "id": "8f4d532a-dc38-484d-bab8-6fec043c1afc",
   "metadata": {},
   "outputs": [],
   "source": [
    "time_express_df = pd.DataFrame({'text':time_expression})"
   ]
  },
  {
   "cell_type": "code",
   "execution_count": 17,
   "id": "4475c70d-a0e5-4964-a27a-c42f9b26e876",
   "metadata": {},
   "outputs": [
    {
     "data": {
      "text/html": [
       "<div>\n",
       "<style scoped>\n",
       "    .dataframe tbody tr th:only-of-type {\n",
       "        vertical-align: middle;\n",
       "    }\n",
       "\n",
       "    .dataframe tbody tr th {\n",
       "        vertical-align: top;\n",
       "    }\n",
       "\n",
       "    .dataframe thead th {\n",
       "        text-align: right;\n",
       "    }\n",
       "</style>\n",
       "<table border=\"1\" class=\"dataframe\">\n",
       "  <thead>\n",
       "    <tr style=\"text-align: right;\">\n",
       "      <th></th>\n",
       "      <th>text</th>\n",
       "    </tr>\n",
       "  </thead>\n",
       "  <tbody>\n",
       "    <tr>\n",
       "      <th>0</th>\n",
       "      <td>2022년</td>\n",
       "    </tr>\n",
       "    <tr>\n",
       "      <th>1</th>\n",
       "      <td>3일</td>\n",
       "    </tr>\n",
       "    <tr>\n",
       "      <th>2</th>\n",
       "      <td>해</td>\n",
       "    </tr>\n",
       "    <tr>\n",
       "      <th>3</th>\n",
       "      <td>해</td>\n",
       "    </tr>\n",
       "    <tr>\n",
       "      <th>4</th>\n",
       "      <td>해</td>\n",
       "    </tr>\n",
       "  </tbody>\n",
       "</table>\n",
       "</div>"
      ],
      "text/plain": [
       "    text\n",
       "0  2022년\n",
       "1     3일\n",
       "2      해\n",
       "3      해\n",
       "4      해"
      ]
     },
     "execution_count": 17,
     "metadata": {},
     "output_type": "execute_result"
    }
   ],
   "source": [
    "time_express_df.head()"
   ]
  },
  {
   "cell_type": "code",
   "execution_count": 18,
   "id": "f4731956-f89e-4c9e-8dc8-4a26e415a005",
   "metadata": {},
   "outputs": [
    {
     "data": {
      "text/html": [
       "<div>\n",
       "<style scoped>\n",
       "    .dataframe tbody tr th:only-of-type {\n",
       "        vertical-align: middle;\n",
       "    }\n",
       "\n",
       "    .dataframe tbody tr th {\n",
       "        vertical-align: top;\n",
       "    }\n",
       "\n",
       "    .dataframe thead th {\n",
       "        text-align: right;\n",
       "    }\n",
       "</style>\n",
       "<table border=\"1\" class=\"dataframe\">\n",
       "  <thead>\n",
       "    <tr style=\"text-align: right;\">\n",
       "      <th></th>\n",
       "      <th>text</th>\n",
       "    </tr>\n",
       "  </thead>\n",
       "  <tbody>\n",
       "    <tr>\n",
       "      <th>278776</th>\n",
       "      <td>1865년</td>\n",
       "    </tr>\n",
       "    <tr>\n",
       "      <th>278777</th>\n",
       "      <td>1918년</td>\n",
       "    </tr>\n",
       "    <tr>\n",
       "      <th>278778</th>\n",
       "      <td>19세기</td>\n",
       "    </tr>\n",
       "    <tr>\n",
       "      <th>278779</th>\n",
       "      <td>19세기</td>\n",
       "    </tr>\n",
       "    <tr>\n",
       "      <th>278780</th>\n",
       "      <td>1917년</td>\n",
       "    </tr>\n",
       "  </tbody>\n",
       "</table>\n",
       "</div>"
      ],
      "text/plain": [
       "         text\n",
       "278776  1865년\n",
       "278777  1918년\n",
       "278778   19세기\n",
       "278779   19세기\n",
       "278780  1917년"
      ]
     },
     "execution_count": 18,
     "metadata": {},
     "output_type": "execute_result"
    }
   ],
   "source": [
    "time_express_df.tail()"
   ]
  },
  {
   "cell_type": "code",
   "execution_count": 19,
   "id": "92027700-06a7-4d71-882d-1586ab3fd286",
   "metadata": {},
   "outputs": [],
   "source": [
    "time_express_df.to_csv(\"dataset/trans-dataset/시간표현탐지데이터.csv\", index=False)"
   ]
  },
  {
   "cell_type": "code",
   "execution_count": null,
   "id": "8a4d03b7-4531-4181-bd7a-5c4e014555b5",
   "metadata": {},
   "outputs": [],
   "source": []
  }
 ],
 "metadata": {
  "kernelspec": {
   "display_name": "Python 3 (ipykernel)",
   "language": "python",
   "name": "python3"
  },
  "language_info": {
   "codemirror_mode": {
    "name": "ipython",
    "version": 3
   },
   "file_extension": ".py",
   "mimetype": "text/x-python",
   "name": "python",
   "nbconvert_exporter": "python",
   "pygments_lexer": "ipython3",
   "version": "3.11.7"
  }
 },
 "nbformat": 4,
 "nbformat_minor": 5
}
