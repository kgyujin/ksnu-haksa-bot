{
 "cells": [
  {
   "cell_type": "code",
   "execution_count": 1,
   "id": "b82579b0-4f23-40af-8019-80dd10caf98c",
   "metadata": {},
   "outputs": [],
   "source": [
    "import os\n",
    "import json\n",
    "import pandas as pd"
   ]
  },
  {
   "cell_type": "code",
   "execution_count": 2,
   "id": "0116dcb5-918e-4204-9bfa-710846e97591",
   "metadata": {},
   "outputs": [],
   "source": [
    "def counting(path):\n",
    "    cnt = 0\n",
    "    data_dir = path\n",
    "\n",
    "    for path in os.listdir(data_dir):\n",
    "        if os.path.isfile(os.path.join(data_dir, path)):\n",
    "            cnt += 1\n",
    "\n",
    "    print(f'데이터 개수 = {cnt}')\n",
    "    return cnt"
   ]
  },
  {
   "cell_type": "markdown",
   "id": "ee3332b5-b578-4ec2-ac68-5e1eecd126ab",
   "metadata": {},
   "source": [
    "# csv 변환 - 용도별 목적 데이터"
   ]
  },
  {
   "cell_type": "code",
   "execution_count": 30,
   "id": "f7d57fdb-2fab-4231-a8d5-0d35badf9602",
   "metadata": {},
   "outputs": [],
   "source": [
    "target_path = \"dataset/init-dataset/용도별 목적대화 데이터/\""
   ]
  },
  {
   "cell_type": "code",
   "execution_count": 31,
   "id": "69870cb7-a5ed-4826-9d64-8f749af6501e",
   "metadata": {},
   "outputs": [],
   "source": [
    "target_path_list = os.listdir(target_path)"
   ]
  },
  {
   "cell_type": "code",
   "execution_count": 32,
   "id": "609f9cd3-4387-4a45-b7d7-bd10a95ee39e",
   "metadata": {},
   "outputs": [
    {
     "data": {
      "text/plain": [
       "['이벤트',\n",
       " '온오프라인안내',\n",
       " '배송',\n",
       " '주문결제',\n",
       " '제품사용문의',\n",
       " 'AS문의',\n",
       " '환불반품교환']"
      ]
     },
     "execution_count": 32,
     "metadata": {},
     "output_type": "execute_result"
    }
   ],
   "source": [
    "target_path_list"
   ]
  },
  {
   "cell_type": "code",
   "execution_count": 33,
   "id": "6bcfe9b5-cfa6-49fe-8417-3143c27e5329",
   "metadata": {},
   "outputs": [
    {
     "name": "stdout",
     "output_type": "stream",
     "text": [
      "데이터 개수 = 990\n",
      "데이터 개수 = 2136\n",
      "데이터 개수 = 1945\n",
      "데이터 개수 = 1952\n",
      "데이터 개수 = 2473\n",
      "데이터 개수 = 2426\n",
      "데이터 개수 = 1910\n",
      "총 데이터 개수 = 13832\n"
     ]
    }
   ],
   "source": [
    "total_data = 0\n",
    "for i in range(len(target_path_list)):\n",
    "    cnt = counting(target_path+target_path_list[i])\n",
    "    total_data += cnt\n",
    "print(f'총 데이터 개수 = {total_data}')"
   ]
  },
  {
   "cell_type": "code",
   "execution_count": 34,
   "id": "7a95e5e5-3acf-4bd5-9763-7c55cee875a7",
   "metadata": {},
   "outputs": [],
   "source": [
    "purpose = []\n",
    "for i in range(len(target_path_list)):\n",
    "    files = os.listdir(target_path+target_path_list[i])\n",
    "    for k in range(len(files)):\n",
    "        final_path = str(target_path)+str(target_path_list[i])+\"/\"+str(files[k])\n",
    "        try:\n",
    "            target_file = open(f\"{final_path}\", encoding=\"UTF-8\")\n",
    "            target_file = json.loads(target_file.read())\n",
    "            for j in range(len(target_file['info'][0]['annotations']['lines'])):\n",
    "                purpose.append(target_file['info'][0]['annotations']['lines'][j]['norm_text'][2:])\n",
    "        except:\n",
    "            print(f\"error! {final_path}\")"
   ]
  },
  {
   "cell_type": "code",
   "execution_count": 35,
   "id": "5b9e2d58-e2a1-463a-a745-5fa3ead06079",
   "metadata": {},
   "outputs": [
    {
     "data": {
      "text/plain": [
       "172442"
      ]
     },
     "execution_count": 35,
     "metadata": {},
     "output_type": "execute_result"
    }
   ],
   "source": [
    "len(purpose)"
   ]
  },
  {
   "cell_type": "code",
   "execution_count": 36,
   "id": "2d9e1f08-61d1-4455-9806-d504bfe7a4dd",
   "metadata": {},
   "outputs": [],
   "source": [
    "purpose_df = pd.DataFrame({'text':purpose})"
   ]
  },
  {
   "cell_type": "code",
   "execution_count": 37,
   "id": "1e413668-66d0-42c1-9b18-928be4c3a6d1",
   "metadata": {},
   "outputs": [
    {
     "data": {
      "text/html": [
       "<div>\n",
       "<style scoped>\n",
       "    .dataframe tbody tr th:only-of-type {\n",
       "        vertical-align: middle;\n",
       "    }\n",
       "\n",
       "    .dataframe tbody tr th {\n",
       "        vertical-align: top;\n",
       "    }\n",
       "\n",
       "    .dataframe thead th {\n",
       "        text-align: right;\n",
       "    }\n",
       "</style>\n",
       "<table border=\"1\" class=\"dataframe\">\n",
       "  <thead>\n",
       "    <tr style=\"text-align: right;\">\n",
       "      <th></th>\n",
       "      <th>text</th>\n",
       "    </tr>\n",
       "  </thead>\n",
       "  <tbody>\n",
       "    <tr>\n",
       "      <th>0</th>\n",
       "      <td>안녕하세요 #@소속# 상담원 #@이름#입니다</td>\n",
       "    </tr>\n",
       "    <tr>\n",
       "      <th>1</th>\n",
       "      <td>문의 좀 드릴게요</td>\n",
       "    </tr>\n",
       "    <tr>\n",
       "      <th>2</th>\n",
       "      <td>네 고객님 어떤 문의이실까요</td>\n",
       "    </tr>\n",
       "    <tr>\n",
       "      <th>3</th>\n",
       "      <td>기프트카드 등록은 어떻게 하나요</td>\n",
       "    </tr>\n",
       "    <tr>\n",
       "      <th>4</th>\n",
       "      <td>고객님 웹으로 보고 계실까요 앱으로 보고 계실까요</td>\n",
       "    </tr>\n",
       "  </tbody>\n",
       "</table>\n",
       "</div>"
      ],
      "text/plain": [
       "                          text\n",
       "0     안녕하세요 #@소속# 상담원 #@이름#입니다\n",
       "1                    문의 좀 드릴게요\n",
       "2              네 고객님 어떤 문의이실까요\n",
       "3            기프트카드 등록은 어떻게 하나요\n",
       "4  고객님 웹으로 보고 계실까요 앱으로 보고 계실까요"
      ]
     },
     "execution_count": 37,
     "metadata": {},
     "output_type": "execute_result"
    }
   ],
   "source": [
    "purpose_df.head()"
   ]
  },
  {
   "cell_type": "code",
   "execution_count": 38,
   "id": "b115e001-08c8-42b6-9da8-0cb13bd296c1",
   "metadata": {},
   "outputs": [
    {
     "data": {
      "text/html": [
       "<div>\n",
       "<style scoped>\n",
       "    .dataframe tbody tr th:only-of-type {\n",
       "        vertical-align: middle;\n",
       "    }\n",
       "\n",
       "    .dataframe tbody tr th {\n",
       "        vertical-align: top;\n",
       "    }\n",
       "\n",
       "    .dataframe thead th {\n",
       "        text-align: right;\n",
       "    }\n",
       "</style>\n",
       "<table border=\"1\" class=\"dataframe\">\n",
       "  <thead>\n",
       "    <tr style=\"text-align: right;\">\n",
       "      <th></th>\n",
       "      <th>text</th>\n",
       "    </tr>\n",
       "  </thead>\n",
       "  <tbody>\n",
       "    <tr>\n",
       "      <th>172437</th>\n",
       "      <td>정말 죄송하지만요 고객님 그린피는 환불되지 않습니다</td>\n",
       "    </tr>\n",
       "    <tr>\n",
       "      <th>172438</th>\n",
       "      <td>뭐라구요 그렇게 못 박는 거에요 #@소속# 대기업이잖아요</td>\n",
       "    </tr>\n",
       "    <tr>\n",
       "      <th>172439</th>\n",
       "      <td>대신 날짜 조정을 해드릴 수 있어요</td>\n",
       "    </tr>\n",
       "    <tr>\n",
       "      <th>172440</th>\n",
       "      <td>그나마 다행이네요 맘에 들진 않지만요</td>\n",
       "    </tr>\n",
       "    <tr>\n",
       "      <th>172441</th>\n",
       "      <td>도움을 못 드려 죄송합니다 #@소속#였습니다</td>\n",
       "    </tr>\n",
       "  </tbody>\n",
       "</table>\n",
       "</div>"
      ],
      "text/plain": [
       "                                   text\n",
       "172437     정말 죄송하지만요 고객님 그린피는 환불되지 않습니다\n",
       "172438  뭐라구요 그렇게 못 박는 거에요 #@소속# 대기업이잖아요\n",
       "172439              대신 날짜 조정을 해드릴 수 있어요\n",
       "172440             그나마 다행이네요 맘에 들진 않지만요\n",
       "172441         도움을 못 드려 죄송합니다 #@소속#였습니다"
      ]
     },
     "execution_count": 38,
     "metadata": {},
     "output_type": "execute_result"
    }
   ],
   "source": [
    "purpose_df.tail()"
   ]
  },
  {
   "cell_type": "code",
   "execution_count": 39,
   "id": "8d97a843-0bd2-4136-aad0-6a857f8ed2bb",
   "metadata": {},
   "outputs": [],
   "source": [
    "purpose_df.to_csv(\"dataset/trans-dataset/용도별목적대화데이터.csv\", index=False)"
   ]
  },
  {
   "cell_type": "markdown",
   "id": "8767449b-f373-49ea-8292-faab3d5ac489",
   "metadata": {},
   "source": [
    "# csv 변환 - 주제별 일상 대화 데이터"
   ]
  },
  {
   "cell_type": "code",
   "execution_count": 40,
   "id": "c229b80b-5141-4d9d-99cf-b5bd17ff0e13",
   "metadata": {},
   "outputs": [],
   "source": [
    "target_path = \"dataset/init-dataset//주제별 일상 대화 데이터/\""
   ]
  },
  {
   "cell_type": "code",
   "execution_count": 41,
   "id": "cf571b56-de4d-4640-ac3d-fffe217388ac",
   "metadata": {},
   "outputs": [],
   "source": [
    "target_path_list = os.listdir(target_path)"
   ]
  },
  {
   "cell_type": "code",
   "execution_count": 42,
   "id": "efd942d8-7a46-4fd7-b2d7-bddbeda670bc",
   "metadata": {},
   "outputs": [
    {
     "data": {
      "text/plain": [
       "['TL_02. FACEBOOK',\n",
       " 'TL_05. NATEON',\n",
       " 'TL_01. KAKAO',\n",
       " 'TL_04. BAND',\n",
       " 'TL_03. INSTAGRAM']"
      ]
     },
     "execution_count": 42,
     "metadata": {},
     "output_type": "execute_result"
    }
   ],
   "source": [
    "target_path_list"
   ]
  },
  {
   "cell_type": "code",
   "execution_count": 43,
   "id": "8ecb298d-c57d-4b2b-84cd-1c91dc0c783d",
   "metadata": {},
   "outputs": [
    {
     "name": "stdout",
     "output_type": "stream",
     "text": [
      "데이터 개수 = 8002\n",
      "데이터 개수 = 1606\n",
      "데이터 개수 = 71651\n",
      "데이터 개수 = 1631\n",
      "데이터 개수 = 4800\n",
      "총 데이터 개수 = 87690\n"
     ]
    }
   ],
   "source": [
    "total_data = 0\n",
    "for i in range(len(target_path_list)):\n",
    "    cnt = counting(target_path+target_path_list[i])\n",
    "    total_data += cnt\n",
    "print(f'총 데이터 개수 = {total_data}')"
   ]
  },
  {
   "cell_type": "code",
   "execution_count": 44,
   "id": "8976d924-5e96-49f0-b59a-7a3f1561d3b2",
   "metadata": {},
   "outputs": [],
   "source": [
    "ex = open(f\"dataset/init-dataset/주제별 일상 대화 데이터/TL_01. KAKAO/KAKAO_898_15.json\", encoding=\"UTF-8\")\n",
    "ex = json.loads(ex.read())"
   ]
  },
  {
   "cell_type": "code",
   "execution_count": 45,
   "id": "f39a4f55-6389-43de-9332-f51be0420631",
   "metadata": {},
   "outputs": [
    {
     "data": {
      "text/plain": [
       "'장난 아니죠 ? ㅠ'"
      ]
     },
     "execution_count": 45,
     "metadata": {},
     "output_type": "execute_result"
    }
   ],
   "source": [
    "ex['info'][0]['annotations']['lines'][7]['norm_text']"
   ]
  },
  {
   "cell_type": "code",
   "execution_count": 46,
   "id": "329059ee-c491-4061-83b7-f8105da9879e",
   "metadata": {},
   "outputs": [
    {
     "data": {
      "text/plain": [
       "26"
      ]
     },
     "execution_count": 46,
     "metadata": {},
     "output_type": "execute_result"
    }
   ],
   "source": [
    "len(ex['info'][0]['annotations']['lines'])"
   ]
  },
  {
   "cell_type": "code",
   "execution_count": 47,
   "id": "3fe93b26-497a-4419-ad73-cc0356d54910",
   "metadata": {},
   "outputs": [
    {
     "data": {
      "text/plain": [
       "['TL_02. FACEBOOK',\n",
       " 'TL_05. NATEON',\n",
       " 'TL_01. KAKAO',\n",
       " 'TL_04. BAND',\n",
       " 'TL_03. INSTAGRAM']"
      ]
     },
     "execution_count": 47,
     "metadata": {},
     "output_type": "execute_result"
    }
   ],
   "source": [
    "target_path_list"
   ]
  },
  {
   "cell_type": "code",
   "execution_count": 48,
   "id": "8dfa306f-a790-47d0-88e9-62f19144426d",
   "metadata": {},
   "outputs": [],
   "source": [
    "files = files = os.listdir(target_path+target_path_list[0])"
   ]
  },
  {
   "cell_type": "code",
   "execution_count": 49,
   "id": "bdee165e-bd44-4d19-bb69-d976a5bd156b",
   "metadata": {},
   "outputs": [
    {
     "data": {
      "text/plain": [
       "'dataset/init-dataset//주제별 일상 대화 데이터/TL_02. FACEBOOKFACEBOOK_170_11.json'"
      ]
     },
     "execution_count": 49,
     "metadata": {},
     "output_type": "execute_result"
    }
   ],
   "source": [
    "target_path+target_path_list[0]+files[0]"
   ]
  },
  {
   "cell_type": "code",
   "execution_count": 50,
   "id": "bacdcf17-78e4-4bff-bb2d-16450eccd894",
   "metadata": {},
   "outputs": [
    {
     "data": {
      "text/plain": [
       "['TL_02. FACEBOOK',\n",
       " 'TL_05. NATEON',\n",
       " 'TL_01. KAKAO',\n",
       " 'TL_04. BAND',\n",
       " 'TL_03. INSTAGRAM']"
      ]
     },
     "execution_count": 50,
     "metadata": {},
     "output_type": "execute_result"
    }
   ],
   "source": [
    "target_path_list"
   ]
  },
  {
   "cell_type": "code",
   "execution_count": 51,
   "id": "c5ec3c43-36c7-45ca-92d8-0c43f532e5e9",
   "metadata": {},
   "outputs": [],
   "source": [
    "daily_conversations = []\n",
    "for i in range(len(target_path_list)):\n",
    "    files = os.listdir(target_path+target_path_list[i])\n",
    "    for k in range(len(files)):\n",
    "        final_path = str(target_path)+str(target_path_list[i])+\"/\"+str(files[k])\n",
    "        try:\n",
    "            target_file = open(f\"{final_path}\", encoding=\"UTF-8\")\n",
    "            target_file = json.loads(target_file.read())\n",
    "            for j in range(len(target_file['info'][0]['annotations']['lines'])):\n",
    "                daily_conversations.append(target_file['info'][0]['annotations']['lines'][j]['norm_text'])\n",
    "        except:\n",
    "            print(f\"error! {final_path}\")"
   ]
  },
  {
   "cell_type": "code",
   "execution_count": 52,
   "id": "5f42c66a-a8fb-4ad3-991a-521fb0c69cf4",
   "metadata": {},
   "outputs": [
    {
     "data": {
      "text/plain": [
       "1445976"
      ]
     },
     "execution_count": 52,
     "metadata": {},
     "output_type": "execute_result"
    }
   ],
   "source": [
    "len(daily_conversations)"
   ]
  },
  {
   "cell_type": "code",
   "execution_count": 53,
   "id": "ae39c79b-8c76-49f8-8e78-f27cc2d8cb1d",
   "metadata": {},
   "outputs": [],
   "source": [
    "daily_conversations_df = pd.DataFrame({'text':daily_conversations})"
   ]
  },
  {
   "cell_type": "code",
   "execution_count": 54,
   "id": "3889ecf4-edb2-4fd0-a336-70eba83f1e5e",
   "metadata": {},
   "outputs": [
    {
     "data": {
      "text/html": [
       "<div>\n",
       "<style scoped>\n",
       "    .dataframe tbody tr th:only-of-type {\n",
       "        vertical-align: middle;\n",
       "    }\n",
       "\n",
       "    .dataframe tbody tr th {\n",
       "        vertical-align: top;\n",
       "    }\n",
       "\n",
       "    .dataframe thead th {\n",
       "        text-align: right;\n",
       "    }\n",
       "</style>\n",
       "<table border=\"1\" class=\"dataframe\">\n",
       "  <thead>\n",
       "    <tr style=\"text-align: right;\">\n",
       "      <th></th>\n",
       "      <th>text</th>\n",
       "    </tr>\n",
       "  </thead>\n",
       "  <tbody>\n",
       "    <tr>\n",
       "      <th>0</th>\n",
       "      <td>**는 게임 좋아하니?</td>\n",
       "    </tr>\n",
       "    <tr>\n",
       "      <th>1</th>\n",
       "      <td>게임 어떤거 좋아해?</td>\n",
       "    </tr>\n",
       "    <tr>\n",
       "      <th>2</th>\n",
       "      <td>게임 잘 못해서,</td>\n",
       "    </tr>\n",
       "    <tr>\n",
       "      <th>3</th>\n",
       "      <td>우린 완전 게임 좋아해</td>\n",
       "    </tr>\n",
       "    <tr>\n",
       "      <th>4</th>\n",
       "      <td>나는 별로 안 좋아해</td>\n",
       "    </tr>\n",
       "  </tbody>\n",
       "</table>\n",
       "</div>"
      ],
      "text/plain": [
       "           text\n",
       "0  **는 게임 좋아하니?\n",
       "1   게임 어떤거 좋아해?\n",
       "2     게임 잘 못해서,\n",
       "3  우린 완전 게임 좋아해\n",
       "4   나는 별로 안 좋아해"
      ]
     },
     "execution_count": 54,
     "metadata": {},
     "output_type": "execute_result"
    }
   ],
   "source": [
    "daily_conversations_df.head()"
   ]
  },
  {
   "cell_type": "code",
   "execution_count": 55,
   "id": "61c4dab4-8d06-43e7-a1f4-29097c8120a6",
   "metadata": {},
   "outputs": [
    {
     "data": {
      "text/html": [
       "<div>\n",
       "<style scoped>\n",
       "    .dataframe tbody tr th:only-of-type {\n",
       "        vertical-align: middle;\n",
       "    }\n",
       "\n",
       "    .dataframe tbody tr th {\n",
       "        vertical-align: top;\n",
       "    }\n",
       "\n",
       "    .dataframe thead th {\n",
       "        text-align: right;\n",
       "    }\n",
       "</style>\n",
       "<table border=\"1\" class=\"dataframe\">\n",
       "  <thead>\n",
       "    <tr style=\"text-align: right;\">\n",
       "      <th></th>\n",
       "      <th>text</th>\n",
       "    </tr>\n",
       "  </thead>\n",
       "  <tbody>\n",
       "    <tr>\n",
       "      <th>1445971</th>\n",
       "      <td>형 이 분조장도 있대...?</td>\n",
       "    </tr>\n",
       "    <tr>\n",
       "      <th>1445972</th>\n",
       "      <td>심하네...</td>\n",
       "    </tr>\n",
       "    <tr>\n",
       "      <th>1445973</th>\n",
       "      <td>형 나 안 참는다 진짜</td>\n",
       "    </tr>\n",
       "    <tr>\n",
       "      <th>1445974</th>\n",
       "      <td>어... 정신과 약 받아먹는대...</td>\n",
       "    </tr>\n",
       "    <tr>\n",
       "      <th>1445975</th>\n",
       "      <td>불쌍해</td>\n",
       "    </tr>\n",
       "  </tbody>\n",
       "</table>\n",
       "</div>"
      ],
      "text/plain": [
       "                        text\n",
       "1445971      형 이 분조장도 있대...?\n",
       "1445972               심하네...\n",
       "1445973         형 나 안 참는다 진짜\n",
       "1445974  어... 정신과 약 받아먹는대...\n",
       "1445975                  불쌍해"
      ]
     },
     "execution_count": 55,
     "metadata": {},
     "output_type": "execute_result"
    }
   ],
   "source": [
    "daily_conversations_df.tail()"
   ]
  },
  {
   "cell_type": "code",
   "execution_count": 56,
   "id": "1fc62478-b9ee-4f80-9a34-68b5e31bd677",
   "metadata": {},
   "outputs": [],
   "source": [
    "daily_conversations_df.to_csv(\"dataset/trans-dataset/주제별일상대화데이터.csv\", index=False)"
   ]
  },
  {
   "cell_type": "markdown",
   "id": "f8aa974a-f021-48d4-a788-2ff6f8f4ed51",
   "metadata": {},
   "source": [
    "# csv 변환 - 일반상식 데이터"
   ]
  },
  {
   "cell_type": "code",
   "execution_count": 57,
   "id": "fcb40381-cb06-4de6-a320-0f373e1f157a",
   "metadata": {},
   "outputs": [],
   "source": [
    "common_sense = open(f\"dataset/init-dataset/일반상식/ko_wiki_v1_squad.json\", encoding=\"UTF-8\")\n",
    "common_sense = json.loads(common_sense.read())"
   ]
  },
  {
   "cell_type": "code",
   "execution_count": 58,
   "id": "6835930c-f1b4-4dd8-adb7-08107e1a1a0f",
   "metadata": {},
   "outputs": [
    {
     "data": {
      "text/plain": [
       "68538"
      ]
     },
     "execution_count": 58,
     "metadata": {},
     "output_type": "execute_result"
    }
   ],
   "source": [
    "len(common_sense['data'])"
   ]
  },
  {
   "cell_type": "code",
   "execution_count": 59,
   "id": "3a224c8a-7481-4af9-abc7-faf291f9c31a",
   "metadata": {},
   "outputs": [
    {
     "data": {
      "text/plain": [
       "{'paragraphs': [{'qas': [{'question': '다테 기미코가 최초로 은퇴 선언을 한게 언제지',\n",
       "     'answers': [{'answer_start': 260, 'text': '1996년 9월 24일'}],\n",
       "     'id': '9_f2_wiki_2822-1'}],\n",
       "   'context': \"재팬 오픈에서 4회 우승하였으며, 통산 단식 200승 이상을 거두었다. 1994년 생애 최초로 세계 랭킹 10위권에 진입하였다. 1992년에는 WTA로부터 '올해 가장 많은 향상을 보여준 선수상'(Most Improved Player Of The Year)을 수여받았으며, 일본 남자 패션 협회(Japan Men's Fashion Association)는 그녀를 '가장 패셔너블한 선수'(Most Fashionable)로 칭했다. 생애 두 번째 올림픽 참가 직후인 1996년 9월 24일 최초로 은퇴를 선언하였다. 이후 12년만인 2008년 4월에 예상치 못한 복귀 선언을 하고 투어에 되돌아왔다. 2008년 6월 15일 도쿄 아리아케 인터내셔널 여자 오픈에서 복귀 후 첫 우승을 기록했으며, 2009년 9월 27일에는 한국에서 열린 한솔 코리아 오픈 대회에서 우승하면서 복귀 후 첫 WTA 투어급 대회 우승을 기록했다. 한숨 좀 작작 쉬어!\"}],\n",
       " 'title': '다테_기미코'}"
      ]
     },
     "execution_count": 59,
     "metadata": {},
     "output_type": "execute_result"
    }
   ],
   "source": [
    "common_sense['data'][0]"
   ]
  },
  {
   "cell_type": "code",
   "execution_count": 60,
   "id": "af47c125-f975-4a40-a88f-c3402645951d",
   "metadata": {},
   "outputs": [
    {
     "data": {
      "text/plain": [
       "{'question': '다테 기미코가 최초로 은퇴 선언을 한게 언제지',\n",
       " 'answers': [{'answer_start': 260, 'text': '1996년 9월 24일'}],\n",
       " 'id': '9_f2_wiki_2822-1'}"
      ]
     },
     "execution_count": 60,
     "metadata": {},
     "output_type": "execute_result"
    }
   ],
   "source": [
    "common_sense['data'][0]['paragraphs'][0]['qas'][0]"
   ]
  },
  {
   "cell_type": "code",
   "execution_count": 61,
   "id": "89405172-0c6b-4a08-a7fe-fe0606c398c5",
   "metadata": {},
   "outputs": [],
   "source": [
    "query = []\n",
    "answer = []\n",
    "for i in range(len(common_sense['data'])):\n",
    "    query.append(common_sense['data'][i]['paragraphs'][0]['qas'][0]['question'])\n",
    "    answer.append(common_sense['data'][i]['paragraphs'][0]['qas'][0]['answers'][0]['text'])"
   ]
  },
  {
   "cell_type": "code",
   "execution_count": 62,
   "id": "41725998-b5fb-4bce-bbf7-3664463399b2",
   "metadata": {},
   "outputs": [
    {
     "data": {
      "text/plain": [
       "68538"
      ]
     },
     "execution_count": 62,
     "metadata": {},
     "output_type": "execute_result"
    }
   ],
   "source": [
    "len(query)"
   ]
  },
  {
   "cell_type": "code",
   "execution_count": 63,
   "id": "7b962486-0d92-43cf-97c4-004470400659",
   "metadata": {},
   "outputs": [
    {
     "data": {
      "text/plain": [
       "68538"
      ]
     },
     "execution_count": 63,
     "metadata": {},
     "output_type": "execute_result"
    }
   ],
   "source": [
    "len(answer)"
   ]
  },
  {
   "cell_type": "code",
   "execution_count": 64,
   "id": "11d94083-c597-4282-a73a-bd25d983f735",
   "metadata": {},
   "outputs": [],
   "source": [
    "common_sense_df = pd.DataFrame({'intent':['일반상식']*len(query), 'query':query, 'answer':answer})"
   ]
  },
  {
   "cell_type": "code",
   "execution_count": 65,
   "id": "2318f45f-4a3a-4767-bfa1-fc9cb677e514",
   "metadata": {},
   "outputs": [
    {
     "data": {
      "text/html": [
       "<div>\n",
       "<style scoped>\n",
       "    .dataframe tbody tr th:only-of-type {\n",
       "        vertical-align: middle;\n",
       "    }\n",
       "\n",
       "    .dataframe tbody tr th {\n",
       "        vertical-align: top;\n",
       "    }\n",
       "\n",
       "    .dataframe thead th {\n",
       "        text-align: right;\n",
       "    }\n",
       "</style>\n",
       "<table border=\"1\" class=\"dataframe\">\n",
       "  <thead>\n",
       "    <tr style=\"text-align: right;\">\n",
       "      <th></th>\n",
       "      <th>intent</th>\n",
       "      <th>query</th>\n",
       "      <th>answer</th>\n",
       "    </tr>\n",
       "  </thead>\n",
       "  <tbody>\n",
       "    <tr>\n",
       "      <th>0</th>\n",
       "      <td>일반상식</td>\n",
       "      <td>다테 기미코가 최초로 은퇴 선언을 한게 언제지</td>\n",
       "      <td>1996년 9월 24일</td>\n",
       "    </tr>\n",
       "    <tr>\n",
       "      <th>1</th>\n",
       "      <td>일반상식</td>\n",
       "      <td>ave;new 본거지 어디야</td>\n",
       "      <td>도쿄 치요다구</td>\n",
       "    </tr>\n",
       "    <tr>\n",
       "      <th>2</th>\n",
       "      <td>일반상식</td>\n",
       "      <td>사카이 다다요시의 아버지가 누구지</td>\n",
       "      <td>사카이 나오타카(酒井直隆)</td>\n",
       "    </tr>\n",
       "    <tr>\n",
       "      <th>3</th>\n",
       "      <td>일반상식</td>\n",
       "      <td>일반성면의 면적이 얼마야</td>\n",
       "      <td>19.41 km²</td>\n",
       "    </tr>\n",
       "    <tr>\n",
       "      <th>4</th>\n",
       "      <td>일반상식</td>\n",
       "      <td>금나라를 세운 사람이 누구야</td>\n",
       "      <td>태조 아구다</td>\n",
       "    </tr>\n",
       "  </tbody>\n",
       "</table>\n",
       "</div>"
      ],
      "text/plain": [
       "  intent                      query          answer\n",
       "0   일반상식  다테 기미코가 최초로 은퇴 선언을 한게 언제지    1996년 9월 24일\n",
       "1   일반상식            ave;new 본거지 어디야         도쿄 치요다구\n",
       "2   일반상식         사카이 다다요시의 아버지가 누구지  사카이 나오타카(酒井直隆)\n",
       "3   일반상식              일반성면의 면적이 얼마야       19.41 km²\n",
       "4   일반상식            금나라를 세운 사람이 누구야          태조 아구다"
      ]
     },
     "execution_count": 65,
     "metadata": {},
     "output_type": "execute_result"
    }
   ],
   "source": [
    "common_sense_df.head()"
   ]
  },
  {
   "cell_type": "code",
   "execution_count": 66,
   "id": "445bf57c-ee33-4ceb-adcc-8003f2baf37f",
   "metadata": {},
   "outputs": [
    {
     "data": {
      "text/html": [
       "<div>\n",
       "<style scoped>\n",
       "    .dataframe tbody tr th:only-of-type {\n",
       "        vertical-align: middle;\n",
       "    }\n",
       "\n",
       "    .dataframe tbody tr th {\n",
       "        vertical-align: top;\n",
       "    }\n",
       "\n",
       "    .dataframe thead th {\n",
       "        text-align: right;\n",
       "    }\n",
       "</style>\n",
       "<table border=\"1\" class=\"dataframe\">\n",
       "  <thead>\n",
       "    <tr style=\"text-align: right;\">\n",
       "      <th></th>\n",
       "      <th>intent</th>\n",
       "      <th>query</th>\n",
       "      <th>answer</th>\n",
       "    </tr>\n",
       "  </thead>\n",
       "  <tbody>\n",
       "    <tr>\n",
       "      <th>68533</th>\n",
       "      <td>일반상식</td>\n",
       "      <td>네 가지 베다의 주해서가 뭐야</td>\n",
       "      <td>브라마나</td>\n",
       "    </tr>\n",
       "    <tr>\n",
       "      <th>68534</th>\n",
       "      <td>일반상식</td>\n",
       "      <td>보안사 민간인 사찰 사건이 뭐야</td>\n",
       "      <td>1990년 보안사령부(현재의 기무사)에 근무하던 윤석양 이병이 보안사의 사찰 대상 ...</td>\n",
       "    </tr>\n",
       "    <tr>\n",
       "      <th>68535</th>\n",
       "      <td>일반상식</td>\n",
       "      <td>FM 음악도시의 1대 진행자는</td>\n",
       "      <td>신해철</td>\n",
       "    </tr>\n",
       "    <tr>\n",
       "      <th>68536</th>\n",
       "      <td>일반상식</td>\n",
       "      <td>파푸아뉴기니는 몇 개의 주가 있어</td>\n",
       "      <td>21개</td>\n",
       "    </tr>\n",
       "    <tr>\n",
       "      <th>68537</th>\n",
       "      <td>일반상식</td>\n",
       "      <td>메이저에서 고로가 미후네로 돌아와서 야구부가 아닌 축구부에 들어간 이유가 뭐야</td>\n",
       "      <td>후쿠오카 리틀리그에서 오른쪽 어깨에 부상을 입은 뒤로 야구부에 들어가지 않았다</td>\n",
       "    </tr>\n",
       "  </tbody>\n",
       "</table>\n",
       "</div>"
      ],
      "text/plain": [
       "      intent                                        query  \\\n",
       "68533   일반상식                             네 가지 베다의 주해서가 뭐야   \n",
       "68534   일반상식                            보안사 민간인 사찰 사건이 뭐야   \n",
       "68535   일반상식                             FM 음악도시의 1대 진행자는   \n",
       "68536   일반상식                           파푸아뉴기니는 몇 개의 주가 있어   \n",
       "68537   일반상식  메이저에서 고로가 미후네로 돌아와서 야구부가 아닌 축구부에 들어간 이유가 뭐야   \n",
       "\n",
       "                                                  answer  \n",
       "68533                                               브라마나  \n",
       "68534  1990년 보안사령부(현재의 기무사)에 근무하던 윤석양 이병이 보안사의 사찰 대상 ...  \n",
       "68535                                                신해철  \n",
       "68536                                                21개  \n",
       "68537        후쿠오카 리틀리그에서 오른쪽 어깨에 부상을 입은 뒤로 야구부에 들어가지 않았다  "
      ]
     },
     "execution_count": 66,
     "metadata": {},
     "output_type": "execute_result"
    }
   ],
   "source": [
    "common_sense_df.tail()"
   ]
  },
  {
   "cell_type": "code",
   "execution_count": 67,
   "id": "1ea2d839-e977-42e4-b63a-efb712865034",
   "metadata": {},
   "outputs": [],
   "source": [
    "common_sense_df.to_csv(\"dataset/trans-dataset/일반상식.csv\", index=False)"
   ]
  },
  {
   "cell_type": "markdown",
   "id": "448d978c-1685-4ef6-b9ea-f75a5004a914",
   "metadata": {},
   "source": [
    "# csv 변환 - 시간 표현 탐지 데이터"
   ]
  },
  {
   "cell_type": "code",
   "execution_count": 68,
   "id": "e92cd905-9c17-4527-af6d-40f2e0f3bb5b",
   "metadata": {},
   "outputs": [],
   "source": [
    "target_path = \"dataset/init-dataset/시간 표현 탐지 데이터/\""
   ]
  },
  {
   "cell_type": "code",
   "execution_count": 69,
   "id": "47aae5ff-efa6-425b-806b-71fa07fd5202",
   "metadata": {},
   "outputs": [],
   "source": [
    "target_path_list = os.listdir(target_path)"
   ]
  },
  {
   "cell_type": "code",
   "execution_count": 70,
   "id": "60223ad3-7860-44c0-a9e3-70fb01aef1aa",
   "metadata": {},
   "outputs": [
    {
     "data": {
      "text/plain": [
       "['TL_대화_연애',\n",
       " 'TL_대화_여행',\n",
       " 'TL_역사',\n",
       " 'TL_대화_기타',\n",
       " 'TL_대화_진로',\n",
       " 'TL_뉴스_경제',\n",
       " 'TL_대화_취미',\n",
       " 'TL_뉴스_사회']"
      ]
     },
     "execution_count": 70,
     "metadata": {},
     "output_type": "execute_result"
    }
   ],
   "source": [
    "target_path_list"
   ]
  },
  {
   "cell_type": "code",
   "execution_count": 71,
   "id": "5a7da218-191f-411b-bcd4-f5731b18dcce",
   "metadata": {},
   "outputs": [
    {
     "name": "stdout",
     "output_type": "stream",
     "text": [
      "데이터 개수 = 3989\n",
      "데이터 개수 = 3581\n",
      "데이터 개수 = 4093\n",
      "데이터 개수 = 3605\n",
      "데이터 개수 = 3769\n",
      "데이터 개수 = 5760\n",
      "데이터 개수 = 4257\n",
      "데이터 개수 = 6461\n",
      "총 데이터 개수 = 35515\n"
     ]
    }
   ],
   "source": [
    "total_data = 0\n",
    "for i in range(len(target_path_list)):\n",
    "    cnt = counting(target_path+target_path_list[i])\n",
    "    total_data += cnt\n",
    "print(f'총 데이터 개수 = {total_data}')"
   ]
  },
  {
   "cell_type": "code",
   "execution_count": 72,
   "id": "25d664d7-2016-4943-9b6e-343c1a087e94",
   "metadata": {},
   "outputs": [],
   "source": [
    "time_expression = []\n",
    "for i in range(len(target_path_list)):\n",
    "    files = os.listdir(target_path + target_path_list[i])\n",
    "    for k in range(len(files)):\n",
    "        final_path = os.path.join(target_path, target_path_list[i], files[k])\n",
    "        try:\n",
    "            with open(final_path, encoding=\"UTF-8\") as target_file:\n",
    "                target_data = json.load(target_file)\n",
    "                if 'utterances' in target_data:\n",
    "                    for utterance in target_data['utterances']:\n",
    "                        if 'timex3' in utterance:\n",
    "                            for timex in utterance['timex3']:\n",
    "                                time_expression.append(timex['text'])\n",
    "                elif 'sentences' in target_data:\n",
    "                    for sentence in target_data['sentences']:\n",
    "                        if 'timex3' in sentence:\n",
    "                            for timex in sentence['timex3']:\n",
    "                                time_expression.append(timex['text'])\n",
    "        except Exception as e:\n",
    "            print(f\"error! {final_path}, {str(e)}\")"
   ]
  },
  {
   "cell_type": "code",
   "execution_count": 73,
   "id": "ad5a929a-7232-4928-98af-ad9fd17e1b4d",
   "metadata": {},
   "outputs": [
    {
     "data": {
      "text/plain": [
       "278781"
      ]
     },
     "execution_count": 73,
     "metadata": {},
     "output_type": "execute_result"
    }
   ],
   "source": [
    "len(time_expression)"
   ]
  },
  {
   "cell_type": "code",
   "execution_count": 74,
   "id": "4475c70d-a0e5-4964-a27a-c42f9b26e876",
   "metadata": {},
   "outputs": [],
   "source": [
    "time_express_df = pd.DataFrame({'text':time_expression})"
   ]
  },
  {
   "cell_type": "code",
   "execution_count": 75,
   "id": "f4731956-f89e-4c9e-8dc8-4a26e415a005",
   "metadata": {},
   "outputs": [
    {
     "data": {
      "text/html": [
       "<div>\n",
       "<style scoped>\n",
       "    .dataframe tbody tr th:only-of-type {\n",
       "        vertical-align: middle;\n",
       "    }\n",
       "\n",
       "    .dataframe tbody tr th {\n",
       "        vertical-align: top;\n",
       "    }\n",
       "\n",
       "    .dataframe thead th {\n",
       "        text-align: right;\n",
       "    }\n",
       "</style>\n",
       "<table border=\"1\" class=\"dataframe\">\n",
       "  <thead>\n",
       "    <tr style=\"text-align: right;\">\n",
       "      <th></th>\n",
       "      <th>text</th>\n",
       "    </tr>\n",
       "  </thead>\n",
       "  <tbody>\n",
       "    <tr>\n",
       "      <th>0</th>\n",
       "      <td>일주일</td>\n",
       "    </tr>\n",
       "    <tr>\n",
       "      <th>1</th>\n",
       "      <td>휴가기간</td>\n",
       "    </tr>\n",
       "    <tr>\n",
       "      <th>2</th>\n",
       "      <td>휴가기간</td>\n",
       "    </tr>\n",
       "    <tr>\n",
       "      <th>3</th>\n",
       "      <td>휴가 둘째 날</td>\n",
       "    </tr>\n",
       "    <tr>\n",
       "      <th>4</th>\n",
       "      <td>1년</td>\n",
       "    </tr>\n",
       "  </tbody>\n",
       "</table>\n",
       "</div>"
      ],
      "text/plain": [
       "      text\n",
       "0      일주일\n",
       "1     휴가기간\n",
       "2     휴가기간\n",
       "3  휴가 둘째 날\n",
       "4       1년"
      ]
     },
     "execution_count": 75,
     "metadata": {},
     "output_type": "execute_result"
    }
   ],
   "source": [
    "time_express_df.head()"
   ]
  },
  {
   "cell_type": "code",
   "execution_count": 76,
   "id": "92027700-06a7-4d71-882d-1586ab3fd286",
   "metadata": {},
   "outputs": [
    {
     "data": {
      "text/html": [
       "<div>\n",
       "<style scoped>\n",
       "    .dataframe tbody tr th:only-of-type {\n",
       "        vertical-align: middle;\n",
       "    }\n",
       "\n",
       "    .dataframe tbody tr th {\n",
       "        vertical-align: top;\n",
       "    }\n",
       "\n",
       "    .dataframe thead th {\n",
       "        text-align: right;\n",
       "    }\n",
       "</style>\n",
       "<table border=\"1\" class=\"dataframe\">\n",
       "  <thead>\n",
       "    <tr style=\"text-align: right;\">\n",
       "      <th></th>\n",
       "      <th>text</th>\n",
       "    </tr>\n",
       "  </thead>\n",
       "  <tbody>\n",
       "    <tr>\n",
       "      <th>278776</th>\n",
       "      <td>기간</td>\n",
       "    </tr>\n",
       "    <tr>\n",
       "      <th>278777</th>\n",
       "      <td>달 9일</td>\n",
       "    </tr>\n",
       "    <tr>\n",
       "      <th>278778</th>\n",
       "      <td>16일</td>\n",
       "    </tr>\n",
       "    <tr>\n",
       "      <th>278779</th>\n",
       "      <td>해</td>\n",
       "    </tr>\n",
       "    <tr>\n",
       "      <th>278780</th>\n",
       "      <td>과거</td>\n",
       "    </tr>\n",
       "  </tbody>\n",
       "</table>\n",
       "</div>"
      ],
      "text/plain": [
       "        text\n",
       "278776    기간\n",
       "278777  달 9일\n",
       "278778   16일\n",
       "278779     해\n",
       "278780    과거"
      ]
     },
     "execution_count": 76,
     "metadata": {},
     "output_type": "execute_result"
    }
   ],
   "source": [
    "time_express_df.tail()"
   ]
  },
  {
   "cell_type": "code",
   "execution_count": 77,
   "id": "8a4d03b7-4531-4181-bd7a-5c4e014555b5",
   "metadata": {},
   "outputs": [],
   "source": [
    "time_express_df.to_csv(\"dataset/trans-dataset/시간표현탐지데이터.csv\", index=False)"
   ]
  }
 ],
 "metadata": {
  "kernelspec": {
   "display_name": "Python 3 (ipykernel)",
   "language": "python",
   "name": "python3"
  },
  "language_info": {
   "codemirror_mode": {
    "name": "ipython",
    "version": 3
   },
   "file_extension": ".py",
   "mimetype": "text/x-python",
   "name": "python",
   "nbconvert_exporter": "python",
   "pygments_lexer": "ipython3",
   "version": "3.11.7"
  }
 },
 "nbformat": 4,
 "nbformat_minor": 5
}
